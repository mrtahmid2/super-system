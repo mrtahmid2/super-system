{
  "nbformat": 4,
  "nbformat_minor": 0,
  "metadata": {
    "colab": {
      "name": "Copy of ML Club Notebook.ipynb",
      "provenance": [],
      "toc_visible": true,
      "include_colab_link": true
    },
    "kernelspec": {
      "name": "python3",
      "display_name": "Python 3"
    }
  },
  "cells": [
    {
      "cell_type": "markdown",
      "metadata": {
        "id": "view-in-github",
        "colab_type": "text"
      },
      "source": [
        "<a href=\"https://colab.research.google.com/github/mrtahmid2/super-system/blob/main/Copy_of_ML_Club_Notebook.ipynb\" target=\"_parent\"><img src=\"https://colab.research.google.com/assets/colab-badge.svg\" alt=\"Open In Colab\"/></a>"
      ]
    },
    {
      "cell_type": "markdown",
      "metadata": {
        "id": "rqXDdjNjxPdb"
      },
      "source": [
        "# *Avocado Prices* Data Analysis\n",
        "*ML Club 2021*\n",
        "\n",
        "We're going to go over the *Avocado Prices* dataset in two lessons with live coding from Michael.\n",
        "\n",
        "Part 1 (01.05.20):\n",
        "\n",
        "\n",
        "*   Loading a CSV File\n",
        "*   Understanding Data From [Source](https://www.kaggle.com/neuromusic/avocado-prices)\n",
        "*   Describing Data\n",
        "*   Numerical vs. Categorical Data\n",
        "*   Indexing Columns - all columns\n",
        "*   Indexing Rows vis `iloc` - all rows\n",
        "*   Boolean Indexing\n",
        "*   Checking for N/A Data with `isna()`\n",
        "*   Counting # of different types in a region `value_counts`\n",
        "*   Counting # of unique types in a reagion `unique`\n",
        "*   **Sneak Peak:** Correlation of Data\n",
        "\n",
        "Part 2:\n",
        "Visualization (01.12.20)\n",
        "\n",
        "Part 3:\n",
        "Preprocessing (01.19.20)\n",
        "\n",
        "\n",
        "\n"
      ]
    },
    {
      "cell_type": "markdown",
      "metadata": {
        "id": "jJIs3QqJyBoO"
      },
      "source": [
        "## Exploratory Data Analysis w/ `pandas`"
      ]
    },
    {
      "cell_type": "code",
      "metadata": {
        "id": "yJBblvOsyMn8"
      },
      "source": [
        "import pandas as pd\n",
        "import numpy as np"
      ],
      "execution_count": null,
      "outputs": []
    },
    {
      "cell_type": "code",
      "metadata": {
        "colab": {
          "base_uri": "https://localhost:8080/",
          "height": 392
        },
        "id": "NIcnwoRQWBEy",
        "outputId": "7135f779-8cd4-4546-8ffd-4d5d03a13384"
      },
      "source": [
        "df = pd.read_csv('avocado.csv')\n",
        "df"
      ],
      "execution_count": null,
      "outputs": [
        {
          "output_type": "error",
          "ename": "FileNotFoundError",
          "evalue": "ignored",
          "traceback": [
            "\u001b[0;31m---------------------------------------------------------------------------\u001b[0m",
            "\u001b[0;31mFileNotFoundError\u001b[0m                         Traceback (most recent call last)",
            "\u001b[0;32m<ipython-input-2-3be569d5bdbb>\u001b[0m in \u001b[0;36m<module>\u001b[0;34m()\u001b[0m\n\u001b[0;32m----> 1\u001b[0;31m \u001b[0mdf\u001b[0m \u001b[0;34m=\u001b[0m \u001b[0mpd\u001b[0m\u001b[0;34m.\u001b[0m\u001b[0mread_csv\u001b[0m\u001b[0;34m(\u001b[0m\u001b[0;34m'avocado.csv'\u001b[0m\u001b[0;34m)\u001b[0m\u001b[0;34m\u001b[0m\u001b[0;34m\u001b[0m\u001b[0m\n\u001b[0m\u001b[1;32m      2\u001b[0m \u001b[0mdf\u001b[0m\u001b[0;34m\u001b[0m\u001b[0;34m\u001b[0m\u001b[0m\n",
            "\u001b[0;32m/usr/local/lib/python3.7/dist-packages/pandas/io/parsers.py\u001b[0m in \u001b[0;36mread_csv\u001b[0;34m(filepath_or_buffer, sep, delimiter, header, names, index_col, usecols, squeeze, prefix, mangle_dupe_cols, dtype, engine, converters, true_values, false_values, skipinitialspace, skiprows, skipfooter, nrows, na_values, keep_default_na, na_filter, verbose, skip_blank_lines, parse_dates, infer_datetime_format, keep_date_col, date_parser, dayfirst, cache_dates, iterator, chunksize, compression, thousands, decimal, lineterminator, quotechar, quoting, doublequote, escapechar, comment, encoding, dialect, error_bad_lines, warn_bad_lines, delim_whitespace, low_memory, memory_map, float_precision)\u001b[0m\n\u001b[1;32m    686\u001b[0m     )\n\u001b[1;32m    687\u001b[0m \u001b[0;34m\u001b[0m\u001b[0m\n\u001b[0;32m--> 688\u001b[0;31m     \u001b[0;32mreturn\u001b[0m \u001b[0m_read\u001b[0m\u001b[0;34m(\u001b[0m\u001b[0mfilepath_or_buffer\u001b[0m\u001b[0;34m,\u001b[0m \u001b[0mkwds\u001b[0m\u001b[0;34m)\u001b[0m\u001b[0;34m\u001b[0m\u001b[0;34m\u001b[0m\u001b[0m\n\u001b[0m\u001b[1;32m    689\u001b[0m \u001b[0;34m\u001b[0m\u001b[0m\n\u001b[1;32m    690\u001b[0m \u001b[0;34m\u001b[0m\u001b[0m\n",
            "\u001b[0;32m/usr/local/lib/python3.7/dist-packages/pandas/io/parsers.py\u001b[0m in \u001b[0;36m_read\u001b[0;34m(filepath_or_buffer, kwds)\u001b[0m\n\u001b[1;32m    452\u001b[0m \u001b[0;34m\u001b[0m\u001b[0m\n\u001b[1;32m    453\u001b[0m     \u001b[0;31m# Create the parser.\u001b[0m\u001b[0;34m\u001b[0m\u001b[0;34m\u001b[0m\u001b[0;34m\u001b[0m\u001b[0m\n\u001b[0;32m--> 454\u001b[0;31m     \u001b[0mparser\u001b[0m \u001b[0;34m=\u001b[0m \u001b[0mTextFileReader\u001b[0m\u001b[0;34m(\u001b[0m\u001b[0mfp_or_buf\u001b[0m\u001b[0;34m,\u001b[0m \u001b[0;34m**\u001b[0m\u001b[0mkwds\u001b[0m\u001b[0;34m)\u001b[0m\u001b[0;34m\u001b[0m\u001b[0;34m\u001b[0m\u001b[0m\n\u001b[0m\u001b[1;32m    455\u001b[0m \u001b[0;34m\u001b[0m\u001b[0m\n\u001b[1;32m    456\u001b[0m     \u001b[0;32mif\u001b[0m \u001b[0mchunksize\u001b[0m \u001b[0;32mor\u001b[0m \u001b[0miterator\u001b[0m\u001b[0;34m:\u001b[0m\u001b[0;34m\u001b[0m\u001b[0;34m\u001b[0m\u001b[0m\n",
            "\u001b[0;32m/usr/local/lib/python3.7/dist-packages/pandas/io/parsers.py\u001b[0m in \u001b[0;36m__init__\u001b[0;34m(self, f, engine, **kwds)\u001b[0m\n\u001b[1;32m    946\u001b[0m             \u001b[0mself\u001b[0m\u001b[0;34m.\u001b[0m\u001b[0moptions\u001b[0m\u001b[0;34m[\u001b[0m\u001b[0;34m\"has_index_names\"\u001b[0m\u001b[0;34m]\u001b[0m \u001b[0;34m=\u001b[0m \u001b[0mkwds\u001b[0m\u001b[0;34m[\u001b[0m\u001b[0;34m\"has_index_names\"\u001b[0m\u001b[0;34m]\u001b[0m\u001b[0;34m\u001b[0m\u001b[0;34m\u001b[0m\u001b[0m\n\u001b[1;32m    947\u001b[0m \u001b[0;34m\u001b[0m\u001b[0m\n\u001b[0;32m--> 948\u001b[0;31m         \u001b[0mself\u001b[0m\u001b[0;34m.\u001b[0m\u001b[0m_make_engine\u001b[0m\u001b[0;34m(\u001b[0m\u001b[0mself\u001b[0m\u001b[0;34m.\u001b[0m\u001b[0mengine\u001b[0m\u001b[0;34m)\u001b[0m\u001b[0;34m\u001b[0m\u001b[0;34m\u001b[0m\u001b[0m\n\u001b[0m\u001b[1;32m    949\u001b[0m \u001b[0;34m\u001b[0m\u001b[0m\n\u001b[1;32m    950\u001b[0m     \u001b[0;32mdef\u001b[0m \u001b[0mclose\u001b[0m\u001b[0;34m(\u001b[0m\u001b[0mself\u001b[0m\u001b[0;34m)\u001b[0m\u001b[0;34m:\u001b[0m\u001b[0;34m\u001b[0m\u001b[0;34m\u001b[0m\u001b[0m\n",
            "\u001b[0;32m/usr/local/lib/python3.7/dist-packages/pandas/io/parsers.py\u001b[0m in \u001b[0;36m_make_engine\u001b[0;34m(self, engine)\u001b[0m\n\u001b[1;32m   1178\u001b[0m     \u001b[0;32mdef\u001b[0m \u001b[0m_make_engine\u001b[0m\u001b[0;34m(\u001b[0m\u001b[0mself\u001b[0m\u001b[0;34m,\u001b[0m \u001b[0mengine\u001b[0m\u001b[0;34m=\u001b[0m\u001b[0;34m\"c\"\u001b[0m\u001b[0;34m)\u001b[0m\u001b[0;34m:\u001b[0m\u001b[0;34m\u001b[0m\u001b[0;34m\u001b[0m\u001b[0m\n\u001b[1;32m   1179\u001b[0m         \u001b[0;32mif\u001b[0m \u001b[0mengine\u001b[0m \u001b[0;34m==\u001b[0m \u001b[0;34m\"c\"\u001b[0m\u001b[0;34m:\u001b[0m\u001b[0;34m\u001b[0m\u001b[0;34m\u001b[0m\u001b[0m\n\u001b[0;32m-> 1180\u001b[0;31m             \u001b[0mself\u001b[0m\u001b[0;34m.\u001b[0m\u001b[0m_engine\u001b[0m \u001b[0;34m=\u001b[0m \u001b[0mCParserWrapper\u001b[0m\u001b[0;34m(\u001b[0m\u001b[0mself\u001b[0m\u001b[0;34m.\u001b[0m\u001b[0mf\u001b[0m\u001b[0;34m,\u001b[0m \u001b[0;34m**\u001b[0m\u001b[0mself\u001b[0m\u001b[0;34m.\u001b[0m\u001b[0moptions\u001b[0m\u001b[0;34m)\u001b[0m\u001b[0;34m\u001b[0m\u001b[0;34m\u001b[0m\u001b[0m\n\u001b[0m\u001b[1;32m   1181\u001b[0m         \u001b[0;32melse\u001b[0m\u001b[0;34m:\u001b[0m\u001b[0;34m\u001b[0m\u001b[0;34m\u001b[0m\u001b[0m\n\u001b[1;32m   1182\u001b[0m             \u001b[0;32mif\u001b[0m \u001b[0mengine\u001b[0m \u001b[0;34m==\u001b[0m \u001b[0;34m\"python\"\u001b[0m\u001b[0;34m:\u001b[0m\u001b[0;34m\u001b[0m\u001b[0;34m\u001b[0m\u001b[0m\n",
            "\u001b[0;32m/usr/local/lib/python3.7/dist-packages/pandas/io/parsers.py\u001b[0m in \u001b[0;36m__init__\u001b[0;34m(self, src, **kwds)\u001b[0m\n\u001b[1;32m   2008\u001b[0m         \u001b[0mkwds\u001b[0m\u001b[0;34m[\u001b[0m\u001b[0;34m\"usecols\"\u001b[0m\u001b[0;34m]\u001b[0m \u001b[0;34m=\u001b[0m \u001b[0mself\u001b[0m\u001b[0;34m.\u001b[0m\u001b[0musecols\u001b[0m\u001b[0;34m\u001b[0m\u001b[0;34m\u001b[0m\u001b[0m\n\u001b[1;32m   2009\u001b[0m \u001b[0;34m\u001b[0m\u001b[0m\n\u001b[0;32m-> 2010\u001b[0;31m         \u001b[0mself\u001b[0m\u001b[0;34m.\u001b[0m\u001b[0m_reader\u001b[0m \u001b[0;34m=\u001b[0m \u001b[0mparsers\u001b[0m\u001b[0;34m.\u001b[0m\u001b[0mTextReader\u001b[0m\u001b[0;34m(\u001b[0m\u001b[0msrc\u001b[0m\u001b[0;34m,\u001b[0m \u001b[0;34m**\u001b[0m\u001b[0mkwds\u001b[0m\u001b[0;34m)\u001b[0m\u001b[0;34m\u001b[0m\u001b[0;34m\u001b[0m\u001b[0m\n\u001b[0m\u001b[1;32m   2011\u001b[0m         \u001b[0mself\u001b[0m\u001b[0;34m.\u001b[0m\u001b[0munnamed_cols\u001b[0m \u001b[0;34m=\u001b[0m \u001b[0mself\u001b[0m\u001b[0;34m.\u001b[0m\u001b[0m_reader\u001b[0m\u001b[0;34m.\u001b[0m\u001b[0munnamed_cols\u001b[0m\u001b[0;34m\u001b[0m\u001b[0;34m\u001b[0m\u001b[0m\n\u001b[1;32m   2012\u001b[0m \u001b[0;34m\u001b[0m\u001b[0m\n",
            "\u001b[0;32mpandas/_libs/parsers.pyx\u001b[0m in \u001b[0;36mpandas._libs.parsers.TextReader.__cinit__\u001b[0;34m()\u001b[0m\n",
            "\u001b[0;32mpandas/_libs/parsers.pyx\u001b[0m in \u001b[0;36mpandas._libs.parsers.TextReader._setup_parser_source\u001b[0;34m()\u001b[0m\n",
            "\u001b[0;31mFileNotFoundError\u001b[0m: [Errno 2] No such file or directory: 'avocado.csv'"
          ]
        }
      ]
    },
    {
      "cell_type": "code",
      "metadata": {
        "id": "ARJOtg32WdIs"
      },
      "source": [
        "df.head()"
      ],
      "execution_count": null,
      "outputs": []
    },
    {
      "cell_type": "code",
      "metadata": {
        "id": "RQ6nSSvLXHe8"
      },
      "source": [
        "df.tail()"
      ],
      "execution_count": null,
      "outputs": []
    },
    {
      "cell_type": "code",
      "metadata": {
        "id": "_dmTKrEhXQHs"
      },
      "source": [
        "df.drop('Unnamed: 0', axis=1, inplace=True)\n",
        "df.head()"
      ],
      "execution_count": null,
      "outputs": []
    },
    {
      "cell_type": "code",
      "metadata": {
        "id": "njn0LxhaX6rt"
      },
      "source": [
        "df.describe()"
      ],
      "execution_count": null,
      "outputs": []
    },
    {
      "cell_type": "code",
      "metadata": {
        "id": "Qfo-ZCtvYjqG"
      },
      "source": [
        "df.describe(include=np.object)"
      ],
      "execution_count": null,
      "outputs": []
    },
    {
      "cell_type": "code",
      "metadata": {
        "id": "3Ho0A9D_ZPqt"
      },
      "source": [
        "df.head()"
      ],
      "execution_count": null,
      "outputs": []
    },
    {
      "cell_type": "code",
      "metadata": {
        "id": "SDUgCXquZjx_"
      },
      "source": [
        "df.iloc[0:6:2]"
      ],
      "execution_count": null,
      "outputs": []
    },
    {
      "cell_type": "code",
      "metadata": {
        "id": "IksMER__Z2xK"
      },
      "source": [
        "df.iloc[10]"
      ],
      "execution_count": null,
      "outputs": []
    },
    {
      "cell_type": "code",
      "metadata": {
        "id": "XOlee2F5aEVW"
      },
      "source": [
        "df.iloc[0:5]"
      ],
      "execution_count": null,
      "outputs": []
    },
    {
      "cell_type": "code",
      "metadata": {
        "id": "_DnaQZzuaGuf"
      },
      "source": [
        "y = df['AveragePrice']"
      ],
      "execution_count": null,
      "outputs": []
    },
    {
      "cell_type": "code",
      "metadata": {
        "id": "OsPB6BlqaUZs"
      },
      "source": [
        "y"
      ],
      "execution_count": null,
      "outputs": []
    },
    {
      "cell_type": "code",
      "metadata": {
        "id": "EsFlXg3haVof"
      },
      "source": [
        "y.values"
      ],
      "execution_count": null,
      "outputs": []
    },
    {
      "cell_type": "code",
      "metadata": {
        "id": "ah97xK2hck4K"
      },
      "source": [
        "y.mean()"
      ],
      "execution_count": null,
      "outputs": []
    },
    {
      "cell_type": "code",
      "metadata": {
        "id": "3X1IU6YccnwZ"
      },
      "source": [
        "y.std()"
      ],
      "execution_count": null,
      "outputs": []
    },
    {
      "cell_type": "code",
      "metadata": {
        "id": "F9OCgvYRapOK"
      },
      "source": [
        "cat = df[['type', 'region']]\n",
        "cat.head()"
      ],
      "execution_count": null,
      "outputs": []
    },
    {
      "cell_type": "code",
      "metadata": {
        "id": "yWBsxKo1a_10"
      },
      "source": [
        "cat['type'].value_counts()"
      ],
      "execution_count": null,
      "outputs": []
    },
    {
      "cell_type": "code",
      "metadata": {
        "id": "InicUvNfbQqg"
      },
      "source": [
        "cat['region'].value_counts()"
      ],
      "execution_count": null,
      "outputs": []
    },
    {
      "cell_type": "code",
      "metadata": {
        "id": "8ul_71f4byYu"
      },
      "source": [
        "len(cat['region'].unique())"
      ],
      "execution_count": null,
      "outputs": []
    },
    {
      "cell_type": "code",
      "metadata": {
        "id": "2iWcUYVobV8b"
      },
      "source": [
        "df.head()"
      ],
      "execution_count": null,
      "outputs": []
    },
    {
      "cell_type": "code",
      "metadata": {
        "id": "k9GhxJKYb7CH"
      },
      "source": [
        "df[df['region'] == 'Albany']"
      ],
      "execution_count": null,
      "outputs": []
    },
    {
      "cell_type": "code",
      "metadata": {
        "id": "RUIuzksxcHol"
      },
      "source": [
        "df.isna().sum()"
      ],
      "execution_count": null,
      "outputs": []
    },
    {
      "cell_type": "code",
      "metadata": {
        "id": "BAxUfGDmc8QS"
      },
      "source": [
        "# out of 18,000, 13,000 were null. \n",
        "# dr.drop('Total Volume', axis = 1)\n",
        "\n",
        "\n",
        "# out of 18,000, 100 were null\n",
        "# Imputing - takes a statistic of a column and uses it to fill in missing data"
      ],
      "execution_count": null,
      "outputs": []
    },
    {
      "cell_type": "code",
      "metadata": {
        "id": "XcdVI_ocdEqk"
      },
      "source": [
        "df.corr()"
      ],
      "execution_count": null,
      "outputs": []
    },
    {
      "cell_type": "code",
      "metadata": {
        "id": "RgjzKt8BegdT"
      },
      "source": [
        "from seaborn import heatmap\n",
        "\n",
        "heatmap(df.corr(), cmap='summer', annot=True, linecolor='black', fmt='.2f')"
      ],
      "execution_count": null,
      "outputs": []
    },
    {
      "cell_type": "markdown",
      "metadata": {
        "id": "UyRDt2GjXrKD"
      },
      "source": [
        "## Visualization of Data"
      ]
    },
    {
      "cell_type": "code",
      "metadata": {
        "id": "R-qJF_jDe1lF"
      },
      "source": [
        "import matplotlib.pyplot as plt\n",
        "import numpy as np"
      ],
      "execution_count": null,
      "outputs": []
    },
    {
      "cell_type": "code",
      "metadata": {
        "id": "uNMta7vtYMi5"
      },
      "source": [
        "x = np.arange(0, 20)\n",
        "y = 3 * x + 5\n",
        "\n",
        "plt.plot(x, y)"
      ],
      "execution_count": null,
      "outputs": []
    },
    {
      "cell_type": "code",
      "metadata": {
        "id": "dB11bIGBY5Jq"
      },
      "source": [
        "plt.xlabel('Time (sec)')\n",
        "plt.ylabel('Speed (m/s)')\n",
        "plt.title('Speed Of A Car')\n",
        "plt.plot(x, y)\n",
        "plt.grid()"
      ],
      "execution_count": null,
      "outputs": []
    },
    {
      "cell_type": "code",
      "metadata": {
        "id": "OHGrJWLUZl7v"
      },
      "source": [
        "gravity = -9.8\n",
        "time = np.arange(1, 20)\n",
        "distance = 0.5 * gravity * time ** 2 + 1000 # 1/2 * g * t^2\n",
        "distance2 = 0.5 * gravity * time ** 2 + 300 # Equation of Vertical Projectile Motion\n",
        "\n",
        "plt.plot(time, distance, color='#6f6f6f', label=\"Tajwar\", marker='p')\n",
        "plt.plot(time, distance2, color='purple', label=\"Kat\")\n",
        "plt.axhline(y=0, color='black', label='Ground')\n",
        "plt.grid()\n",
        "\n",
        "plt.xlabel('Time (sec)')\n",
        "plt.ylabel('Height (m)')\n",
        "plt.title('I tossed Tajwar and Kat off a cliff')\n",
        "plt.legend()"
      ],
      "execution_count": null,
      "outputs": []
    },
    {
      "cell_type": "code",
      "metadata": {
        "id": "_X3FvKFkasjF"
      },
      "source": [
        "plt.subplot(1, 2, 1)\n",
        "plt.xlabel('Time (sec)')\n",
        "plt.ylabel('Speed (m/s)')\n",
        "plt.title('Speed Of A Car')\n",
        "plt.plot(x, y)\n",
        "plt.grid()\n",
        "\n",
        "plt.subplot(1, 2, 2) # plt.subplot(#rows, #col, #index)\n",
        "plt.plot(time, distance, color='#6f6f6f', label=\"Tajwar\")\n",
        "plt.plot(time, distance2, color='purple', label=\"Kat\")\n",
        "plt.axhline(y=0, color='black', label='Ground')\n",
        "plt.grid()\n",
        "\n",
        "plt.xlabel('Time (sec)')\n",
        "#plt.ylabel('Height (m)')\n",
        "plt.yticks([])\n",
        "plt.title('I tossed Tajwar and Kat off a cliff')\n",
        "plt.legend()"
      ],
      "execution_count": null,
      "outputs": []
    },
    {
      "cell_type": "code",
      "metadata": {
        "id": "VuJZMObecJld"
      },
      "source": [
        "people = ['Michael', 'Aksha', 'Saajid', 'Jamyr', 'Mahbuba', 'Tahmid', 'Ihsanah', 'Frank', \n",
        "         'Mohammed', 'Mr.Lee', 'Mansour']\n",
        "likes = [8, 9, 9, 9, 8, 9, 7, 10, 9, 8, 9]\n",
        "\n",
        "plt.barh(people, likes, color='#ff88ff', edgecolor='black')\n",
        "plt.ylabel('People in ML Club')\n",
        "plt.xlabel('Likeability of Vanilla Ice Cream')\n",
        "plt.title('Vanilla Ice Cream in ML Club')"
      ],
      "execution_count": null,
      "outputs": []
    },
    {
      "cell_type": "code",
      "metadata": {
        "id": "i_8vC0hMd5qj"
      },
      "source": [
        "sizes = np.arange(1, 30)\n",
        "colors = np.random.rand(29)\n",
        "\n",
        "ages = np.arange(1, 30)\n",
        "height = ages ** 2 + np.random.rand(29) ** 2\n",
        "plt.scatter(ages, height, s=sizes, c=colors)\n",
        "plt.grid()\n",
        "plt.xlabel('Age')\n",
        "plt.ylabel('Height')"
      ],
      "execution_count": null,
      "outputs": []
    },
    {
      "cell_type": "code",
      "metadata": {
        "id": "zMfwH3rbg1Wl"
      },
      "source": [
        "df.head()"
      ],
      "execution_count": null,
      "outputs": []
    },
    {
      "cell_type": "code",
      "metadata": {
        "id": "ueZcIQk-hk9Q"
      },
      "source": [
        "conventional_price = df[df['type'] == 'conventional']['AveragePrice']\n",
        "organic_price = df[df['type'] == 'organic']['AveragePrice']\n",
        "\n",
        "conventional_mean = conventional_price.mean()\n",
        "organic_mean = organic_price.mean()\n",
        "\n",
        "conventional_std = conventional_price.std()\n",
        "organic_std = organic_price.std()\n",
        "\n",
        "plt.bar(['conventional', 'organic'], [conventional_mean, organic_mean], color=['#af4f4f', '#f6a6f6'], \n",
        "        edgecolor='black', yerr=[conventional_std, organic_std], capsize=3)\n",
        "plt.xlabel('Avocado Type')\n",
        "plt.ylabel('Avocado Price (USD)')\n",
        "plt.grid()\n",
        "plt.title('Effect of Avocado Price on Average Price')"
      ],
      "execution_count": null,
      "outputs": []
    },
    {
      "cell_type": "code",
      "metadata": {
        "id": "hIs7s1Cxh2iO"
      },
      "source": [
        "# Independent t test for statistical significance of error bars\n",
        "# alpha value = 0.05. If p_test < alpha, the result is statistically significant\n",
        "\n",
        "from scipy.stats import ttest_ind\n",
        "\n",
        "ttest = ttest_ind(conventional_price[:5], organic_price[:5]) # Use only a SAMPLE of the data\n",
        "print(f\"P Value: {ttest.pvalue}\")\n",
        "print(f\"T Value: {ttest.statistic}\")"
      ],
      "execution_count": null,
      "outputs": []
    },
    {
      "cell_type": "markdown",
      "metadata": {
        "id": "1tnPFl9Z6fz1"
      },
      "source": [
        "### Visualization Exercises\n"
      ]
    },
    {
      "cell_type": "code",
      "metadata": {
        "id": "sBAnd5LR7fwz"
      },
      "source": [
        "import matplotlib.pyplot as plt\n",
        "import numpy as np\n",
        "\n",
        "x = np.arange(1, 20)\n",
        "y = x ** 3 - 3 * x - 3\n",
        "\n",
        "plt.plot(x, y, color='purple')\n",
        "plt.grid()\n",
        "plt.xlabel('Quantity of Calculators')\n",
        "plt.ylabel('Revenue (USD)')\n",
        "plt.title('Revenue of Company X in 2015')"
      ],
      "execution_count": null,
      "outputs": []
    },
    {
      "cell_type": "markdown",
      "metadata": {
        "id": "wsd-scYG7ceX"
      },
      "source": [
        "1. What is the equation of the line in the graph?\n",
        "2. Change the code of the graph such that the graph shows the equation of the line $y=3x+5$.\n",
        "3. Draw a **black** horizontal line on the graph when the revenue of the company reaches $6,000.\n",
        "---\n",
        "\n",
        "1. Create a graph displaying the equation described in Equation 1, which represents the profit a company makes when it sells 0 - 20 bikes in the summer. Ensure there is a grid on the line plot. Each point on the line should be marked with a triangle.\n",
        "\n",
        "Equation 1: $2x^2+\\sqrt{x}+3$\n",
        "\n",
        "---\n",
        "2. A company sells both organically and conventionally grown bananas in a grocery store. The prices for organic bananas are `[1.25, 1.11, 1.60, 1.55, 1.90, 2.25]` USD and the prices for conventionally grown bananas are `[2.25, 1.90, 1.96, 1.11, 3.15, 2.11]` USD. Draw a bar graph to display the difference in average price between both types of bananas and use the standard deviation to determine if there is a statistically significant increase in price for organic bananas."
      ]
    },
    {
      "cell_type": "markdown",
      "metadata": {
        "id": "3DCn_RgO6ipv"
      },
      "source": [
        "## Data Preprocessing\n",
        "Club Code 01.19.21"
      ]
    },
    {
      "cell_type": "code",
      "metadata": {
        "id": "nR9MXGz06cAm"
      },
      "source": [
        "df.head()"
      ],
      "execution_count": null,
      "outputs": []
    },
    {
      "cell_type": "code",
      "metadata": {
        "id": "CIyixBSbgCo_"
      },
      "source": [
        "import seaborn as sns\n",
        "import matplotlib.pyplot as plt\n",
        "\n",
        "sns.displot(data=df, x=\"AveragePrice\", kde=True)\n",
        "plt.xlabel('Average Price')\n",
        "plt.ylabel('Frequency')\n",
        "plt.title('Distribution of Avocado Prices')"
      ],
      "execution_count": null,
      "outputs": []
    },
    {
      "cell_type": "code",
      "metadata": {
        "id": "R9biL0PCk1om"
      },
      "source": [
        "from sklearn.feature_selection import VarianceThreshold\n",
        "\n",
        "vt = VarianceThreshold(1)\n",
        "\n",
        "year_transform = vt.fit_transform(df[['4046', '4225']])\n",
        "\n",
        "year_transform"
      ],
      "execution_count": null,
      "outputs": []
    },
    {
      "cell_type": "code",
      "metadata": {
        "id": "Mu_CkOSBlzCO"
      },
      "source": [
        "from sklearn.preprocessing import StandardScaler\n",
        "\n",
        "ss = StandardScaler()\n",
        "\n",
        "df_transform = ss.fit_transform(df[['4046', '4225']])\n",
        "\n",
        "df_transform"
      ],
      "execution_count": null,
      "outputs": []
    },
    {
      "cell_type": "markdown",
      "metadata": {
        "id": "zPAugzFyx0Uh"
      },
      "source": [
        "### Data Preprocessing & Visualization Exercises (V2)\n",
        "\n",
        "**FOR YOUR PRACTICE**\n",
        "\n",
        "For these exercises, please upload `avocado.csv` into your Colab environment by clicking on the **Files** tab on the upper left. The file should be in the *#announcements* tab on Discord.\n",
        "\n",
        "1. **Variance Threshold** --> In order to remove some unneccessary columns in data, we sometimes employ feature selection techniques such as variance thresholding in our data. Using only `pandas`, find the variance of all values in the numerical columns and drop all columns where the variance is less than 0.05.\n",
        "\n",
        "2. **Statistics & Total Volume** --> Find the median of the total volume of avocados sold in 2015.\n",
        "\n",
        "3. **Regional Pricing** --> Find the average of the average price of avocados sold in Albany, NY in 2017.\n",
        "\n",
        "4. **Extra Information** --> Using the `pandas` documentation, convert the *Date* column into a Python `datetime` and add 2 new columns to the `DataFrame`, one for the month of avocado sales and one for the day of avocado sales.\n",
        "\n",
        "5. **Distribution Plot** --> Draw a distribution graph (hint: look at the library where `heatmap` came from) of the average prices of avocados. The graph must have a proper x-label, y-label and title.\n",
        "\n",
        "6. **Scatter Correlations** --> Draw a scatter plot between the average price of avocados and the total volume sold with a proper x-label, y-label and title. Each marker on the graph should have a violet color.  Is there a correlation between average price and total volume sold? Is it positive or negative?\n",
        "--- \n",
        "1. **Dot Product** --> Vector $\\vec{u}$ contains the centimeter measurements `[1.5, 2, 5.6, 7. 2. 1]`. Vector $\\vec{v}$ contains the centimeter measurements `[4, 3, 1, 8, 4, 2.4]`. Compute $\\vec{u} \\cdot \\vec{v}$ and report the answer with proper units.\n",
        "\n",
        "2. **Mystery Matrix** --> Suppose I create a 2 x 2 matrix $\\mathbf{A}$ and multiply it by its inverse $\\mathbf{A}^{-1}$. What is the product of this computation? Print the result of this computation in `numpy` with proper dimensions.\n",
        "\n",
        "3. **The Norm** --> Find the $𝓁_1$ norm of vector $\\vec{u}$ from Q1. \n",
        "\n"
      ]
    },
    {
      "cell_type": "markdown",
      "metadata": {
        "id": "owDf2XeJk0j5"
      },
      "source": [
        "## Simple Linear Regression (01.26.21)\n",
        "\n"
      ]
    },
    {
      "cell_type": "code",
      "metadata": {
        "id": "WtqK7X4dk3IK"
      },
      "source": [
        "from sklearn.datasets import load_boston\n",
        "from sklearn.preprocessing import StandardScaler\n",
        "from sklearn.model_selection import train_test_split\n",
        "from sklearn.metrics import mean_squared_error\n",
        "from sklearn.metrics import r2_score\n",
        "from sklearn.linear_model import LinearRegression\n",
        "import numpy as np\n",
        "import pandas as pd"
      ],
      "execution_count": null,
      "outputs": []
    },
    {
      "cell_type": "code",
      "metadata": {
        "id": "nRCmMbwpk7qe"
      },
      "source": [
        "boston_data = load_boston()\n",
        "\n",
        "print(boston_data['DESCR'])"
      ],
      "execution_count": null,
      "outputs": []
    },
    {
      "cell_type": "code",
      "metadata": {
        "id": "289k2u8VlQKr"
      },
      "source": [
        "df = pd.DataFrame(data=boston_data['data'], columns=boston_data['feature_names'])\n",
        "df['MEDV'] = boston_data['target']\n",
        "\n",
        "df.head()"
      ],
      "execution_count": null,
      "outputs": []
    },
    {
      "cell_type": "code",
      "metadata": {
        "id": "1RNxRghPrNdQ"
      },
      "source": [
        "# Select independent & dependent variables\n",
        "X = df.drop('MEDV', axis=1)\n",
        "y = df['MEDV']\n",
        "\n",
        "print(y.head())\n",
        "X.head()\n"
      ],
      "execution_count": null,
      "outputs": []
    },
    {
      "cell_type": "code",
      "metadata": {
        "id": "NE9E9jp-ryVq"
      },
      "source": [
        "# Preprocess the independent variables\n",
        "ss = StandardScaler()\n",
        "\n",
        "x_scaled = ss.fit_transform(X)\n",
        "\n",
        "x_scaled[:5]"
      ],
      "execution_count": null,
      "outputs": []
    },
    {
      "cell_type": "code",
      "metadata": {
        "id": "m_wdVL-hsY_X"
      },
      "source": [
        "# Split the data into training and testing data\n",
        "\n",
        "x_train, x_test, y_train, y_test = train_test_split(x_scaled, y)\n",
        "\n",
        "print(f\"X TRAIN array is {len(x_train) / len(x_scaled) * 100}% of the full array of {len(x_scaled)} elements.\")\n",
        "print(f\"X TEST array is {len(x_test) / len(x_scaled) * 100}% of the full array of {len(x_scaled)} elements.\")\n",
        "print()\n",
        "\n",
        "print(f\"Y TRAIN array is {len(y_train) / len(y) * 100}% of the full array of {len(y)} labels.\")\n",
        "print(f\"Y TEST array is {len(y_test) / len(y) * 100}% of the full array of {len(y)} labels.\")"
      ],
      "execution_count": null,
      "outputs": []
    },
    {
      "cell_type": "code",
      "metadata": {
        "id": "wvqJW6LPsIcu"
      },
      "source": [
        "# Compute analytic linear regression\n",
        "lr = LinearRegression(n_jobs = -1) # N_JOBS = -1 --> use all available processors to compute the regression\n",
        "\n",
        "lr.fit(x_train, y_train) # fit on training data\n",
        "\n",
        "y_predict = lr.predict(x_train) # Training Error\n",
        "y_val = lr.predict(x_test) # Test Error"
      ],
      "execution_count": null,
      "outputs": []
    },
    {
      "cell_type": "code",
      "metadata": {
        "id": "iPK5EWhXuALs"
      },
      "source": [
        "# Obtain the RMSE and R^2 Values on the training data and the testing data\n",
        "\n",
        "rmse_train = np.sqrt(mean_squared_error(y_train, y_predict))\n",
        "rmse_test = np.sqrt(mean_squared_error(y_test, y_val))\n",
        "\n",
        "r2_train = r2_score(y_train, y_predict)\n",
        "r2_test = r2_score(y_test, y_val)"
      ],
      "execution_count": null,
      "outputs": []
    },
    {
      "cell_type": "code",
      "metadata": {
        "id": "3F5XB2KatgDG"
      },
      "source": [
        "print(f\"The R^2 Value on the training data is {r2_train} and the RMSE is {rmse_train}.\")\n",
        "print()\n",
        "print(f\"The R^2 Value on the TESTING data is {r2_test} and the RMSE is {rmse_test}.\")"
      ],
      "execution_count": null,
      "outputs": []
    },
    {
      "cell_type": "markdown",
      "metadata": {
        "id": "IlwtKytqvB7N"
      },
      "source": [
        "Simple linear regression did an amazing job finding the perfect coefficients to predict the best flower given its sepal length and width and its petal length and width.\n",
        "\n",
        "On the testing data, the $R^2$ value was 0.75 (good fit) and the RMSE was 4.79 (quite low - excellent)."
      ]
    },
    {
      "cell_type": "code",
      "metadata": {
        "id": "otC11plTu4cz"
      },
      "source": [
        "# Obtain the coefficients and y-intercept of the regression\n",
        "print(lr.coef_)\n",
        "print(lr.intercept_)\n",
        "print()\n",
        "print(f\"Characteristics: {boston_data['feature_names']}\")"
      ],
      "execution_count": null,
      "outputs": []
    },
    {
      "cell_type": "markdown",
      "metadata": {
        "id": "17_0Dvj7vpPU"
      },
      "source": [
        "So the perfect line to predict the median value of a house given its characteristics is $y=-1.06x_{crim}+1.26x_{zn}+-0.15x_{indus}+0.88x_{chas}+-1.907x_{nox}+2.61x_{rm}+-0.38x_{age}+-3.38x_{dis}+2.66x_{rad}+-2x_{tax}+-1.89x_{ptratio}+0.79x_b+-3.3x_{lstat} + 22.44$ where\n",
        "\n",
        "- CRIM  -   per capita crime rate by town\n",
        "- ZN   -    proportion of residential land zoned for lots over 25,000 sq.ft.\n",
        "- INDUS -   proportion of non-retail business acres per town\n",
        "- CHAS  -   Charles River dummy variable (= 1 if tract bounds river; 0 otherwise)\n",
        "- NOX   -   nitric oxides concentration (parts per 10 million)\n",
        "- RM   -    average number of rooms per dwelling\n",
        "- AGE   -   proportion of owner-occupied units built prior to 1940\n",
        "- DIS   -   weighted distances to five Boston employment centres\n",
        "- RAD   -   index of accessibility to radial highways\n",
        "- TAX    -  full-value property-tax rate per $10,000\n",
        "- PTRATIO - pupil-teacher ratio by town\n",
        "\n",
        "\n",
        "- B    -    $1000(B_k - 0.63)^2$ where $B_k$ is the proportion of blacks by town\n",
        "- LSTAT  -  % lower status of the population\n",
        "        "
      ]
    },
    {
      "cell_type": "code",
      "metadata": {
        "id": "heNGe_hwvlIz"
      },
      "source": [
        "# Graph the line and its corresponding scatter plot\n",
        "import matplotlib.pyplot as plt\n",
        "\n",
        "plt.scatter(x_test[:, 0], y_val, marker='^', color='#4444')\n",
        "plt.plot(x_test[:, 0], x_test[:, 0] * -1.06 + 22.44, color='red')\n",
        "plt.xlabel('Standardized Per Capita Crime Rate')\n",
        "plt.grid()\n",
        "plt.ylabel('Median Housing Value (Thousands of $)')"
      ],
      "execution_count": null,
      "outputs": []
    },
    {
      "cell_type": "code",
      "metadata": {
        "id": "UqBOpc2NxhY8"
      },
      "source": [
        "plt.scatter(x_test[:, 9], y_val, marker='^', color='orange')\n",
        "plt.plot(x_test[:, 9], x_test[:, 9] * -2 + 22.44, color='red')\n",
        "plt.xlabel('Standardized Property Tax Rate')\n",
        "plt.grid()\n",
        "plt.ylabel('Median Housing Value (Thousands of $)')"
      ],
      "execution_count": null,
      "outputs": []
    },
    {
      "cell_type": "markdown",
      "metadata": {
        "id": "L-6FGt1PhKW-"
      },
      "source": [
        "### Regression Exercises"
      ]
    },
    {
      "cell_type": "code",
      "metadata": {
        "id": "xkMp5T_YtDdi"
      },
      "source": [
        "import seaborn as sns\n",
        "import matplotlib.pyplot as plt\n",
        "import pandas as pd\n",
        "\n",
        "df = sns.load_dataset('tips')\n",
        "\n",
        "y = df[['tip']]\n",
        "X = df.drop('tip', axis=1)\n",
        "X"
      ],
      "execution_count": null,
      "outputs": []
    },
    {
      "cell_type": "markdown",
      "metadata": {
        "id": "Pv2kn9AphOeI"
      },
      "source": [
        "This is the **Tips** dataset, which is freely available to download via the `seaborn` library. In this dataset, there are several attributes that try to predict the tip a person / group of people will leave behind after paying for a meal. Your job is to use regression to predict the tip for a meal given the attributes in the data. Answer the questions below to complete this regression.\n",
        "\n",
        "As you can see from the code above, the independent variables `X` and the dependent variable `y` have already been selected for you.\n",
        "\n",
        "---\n",
        "\n",
        "*The ML Pipeline*\n",
        "1. **Standardization** --> Use `StandardScaler` to standardize the numerical independent variables.\n",
        "2. **Train-Test Split** --> Split the independent and dependent variables into training and testing splits.\n",
        "3. **Linear Regression** --> Using only the numerical independent variables, use analytic `LinearRegression` to find the standardized relationship between the independent and dependent variables. Find the root mean squared error (RMSE) of the regression as well as the standardized coefficients and intercept.\n",
        "---\n",
        "1. **Restaurant Popularity** --> Draw a bar graph with proper axis labels and title to find the most popular day when people like to go out to eat.\n",
        "2. **Total Bill & Tip** --> Draw a scatter plot with proper axis labels and title to find the correlation between the total bill people pay and the tip they leave for the waiter. Is the correlation positive or negative?\n",
        "3. **Linear Equation** --> Follow the *ML Pipeline* above to find a equation that relates the `total_bill` feature and the `tip` feature. **Do NOT standardize the `total_bill` feature** (*usually, scaling is done for smaller RMSE and to scale down the features if they range wildly between each other*). Write the equation in slope-intercept form. Then, plot this equation on top of the scatter plot in the above exercise.\n",
        "4. **Real-World Application** --> If a person pays $30 for their restaurant bill, what is the tip they will leave behind? What percentage of the bill is this?\n",
        "5. **Adding Categorical Features** --> One way to incorporate the categorical features in the dataset is to use **label encoding**. Label encoding is usually used with *binary categorical variables* to convert them to either a 0 or 1. For example, if I used label encoding on the list `[Male, Female]`, then label encoding would turn the features into `[0, 1]`. Use label encoding to convert the smoker, time and sex columns into numerical columns. Then, run analytic `LinearRegression` on all of these columns (you can add columns to a `numpy` array using `np.c_[]`) and find the standardized coefficients, intercept and the RMSE. (You should find a lower RMSE, so run it twice if you don't get this result).\n",
        "6. **Ridge** --> Repeat Step 5 but using ridge regression. Let α = 0.15. Check whether the standardized coefficients are close to 0 and find the RMSE.\n",
        "\n",
        "7. **Lasso** --> Repeat Step 5 but using lasso regression. Let α = 0.15. Check whether the standardized coefficients become 0 (*feature selection!*) and find the RMSE.\n",
        "---\n",
        "\n",
        "8. **Stochastic Regression** --> Use stochastic gradient descent to find the optimal standardized coefficients in the linear model with all of the columns specified in Step 5 (binary categorical + numerical). Let the learning rate ($\\eta_0$) be equal to 0.05, `max_iter` = 2000 and `early_stopping` = `True`. Find the RMSE of the resulting regression."
      ]
    },
    {
      "cell_type": "markdown",
      "metadata": {
        "id": "SpS2PZPVZD7f"
      },
      "source": [
        "### Answers For Qs 1-5"
      ]
    },
    {
      "cell_type": "code",
      "metadata": {
        "id": "rZt0IW4jY84h"
      },
      "source": [
        "plt.bar(X['day'].unique(), X['day'].value_counts(), edgecolor='black', color='#3f43f3')\n",
        "plt.xlabel('Day')\n",
        "plt.ylabel('Frequency')\n",
        "plt.grid()\n",
        "plt.title('Popularity Of Going Out To Eat')\n",
        "\n",
        "# People like to go out to eat on Sundays."
      ],
      "execution_count": null,
      "outputs": []
    },
    {
      "cell_type": "code",
      "metadata": {
        "id": "V0mGr9l-ZkT0"
      },
      "source": [
        "from sklearn.preprocessing import StandardScaler\n",
        "from sklearn.linear_model import LinearRegression\n",
        "from sklearn.model_selection import train_test_split\n",
        "from sklearn.metrics import mean_squared_error\n",
        "import numpy as np\n",
        "\n",
        "ss = StandardScaler()\n",
        "lr = LinearRegression(n_jobs=-1)\n",
        "\n",
        "num_columns = ['total_bill', 'size']\n",
        "\n",
        "x_scaled = ss.fit_transform(X[num_columns])\n",
        "\n",
        "x_train, x_test, y_train, y_test = train_test_split(x_scaled, y)\n",
        "lr.fit(x_train, y_train)\n",
        "\n",
        "y_pred = lr.predict(x_test)\n",
        "\n",
        "print(f\"Standardized Coefficients: {lr.coef_}\")\n",
        "print(f\"Intercept: {lr.intercept_}\")\n",
        "print(f\"RMSE: {np.sqrt(mean_squared_error(y_test, y_pred))}\")"
      ],
      "execution_count": null,
      "outputs": []
    },
    {
      "cell_type": "code",
      "metadata": {
        "id": "UWUjdYl6qBSU"
      },
      "source": [
        "x_train, x_test, y_train, y_test = train_test_split(X[['total_bill']], y)\n",
        "lr.fit(x_train, y_train)\n",
        "\n",
        "print(lr.coef_, lr.intercept_)\n",
        "\n",
        "plt.scatter(X['total_bill'], y, color='salmon', marker='p')\n",
        "plt.plot(X['total_bill'], X['total_bill'] * lr.coef_[0] + lr.intercept_[0], color='black')\n",
        "plt.xlabel('Total Bill ($)')\n",
        "plt.ylabel('Tip ($)')\n",
        "plt.grid()\n",
        "plt.title('Total Bill vs. Tip')"
      ],
      "execution_count": null,
      "outputs": []
    },
    {
      "cell_type": "markdown",
      "metadata": {
        "id": "uxUt8UN1rJ9z"
      },
      "source": [
        "The equation that relates total bill ($x$) to the tip ($y$) is $y=0.1052x+0.924$."
      ]
    },
    {
      "cell_type": "code",
      "metadata": {
        "id": "KNXX7Rntr075"
      },
      "source": [
        "bill = 30.0\n",
        "tip = 0.1052 * bill + 0.924\n",
        "print(f\"The tip is ${tip}, which is {round((tip / bill) * 100, 2)}% of the bill\")\n",
        "print(f\"A 10% tip would be ${bill * .10} and a 15% tip would be ${bill * .15}\")"
      ],
      "execution_count": null,
      "outputs": []
    },
    {
      "cell_type": "code",
      "metadata": {
        "id": "8khaeB0dY5e_"
      },
      "source": [
        "from sklearn.preprocessing import LabelEncoder\n",
        "cat_col = X[['time', 'smoker', 'sex']]\n",
        "\n",
        "le = LabelEncoder()\n",
        "time_encode = le.fit_transform(X[['time']])\n",
        "smoke_encode = le.fit_transform(X[['smoker']])\n",
        "sex_encode = le.fit_transform(X[['sex']])\n",
        "\n",
        "ss = StandardScaler()\n",
        "lr = LinearRegression(n_jobs=-1)\n",
        "\n",
        "num_columns = ['total_bill', 'size']\n",
        "\n",
        "x_scaled = ss.fit_transform(X[num_columns])\n",
        "all_col = np.c_[x_scaled, time_encode, smoke_encode, sex_encode]\n",
        "print(all_col)\n",
        "\n",
        "x_train, x_test, y_train, y_test = train_test_split(all_col, y)\n",
        "lr.fit(x_train, y_train)\n",
        "\n",
        "y_pred = lr.predict(x_test)\n",
        "\n",
        "print(f\"Standardized Coefficients: {lr.coef_}\")\n",
        "print(f\"Intercept: {lr.intercept_}\")\n",
        "print(f\"RMSE: {np.sqrt(mean_squared_error(y_test, y_pred))}\")"
      ],
      "execution_count": null,
      "outputs": []
    },
    {
      "cell_type": "code",
      "metadata": {
        "id": "u666PHsxTkI6"
      },
      "source": [
        ""
      ],
      "execution_count": null,
      "outputs": []
    },
    {
      "cell_type": "markdown",
      "metadata": {
        "id": "lsx1OC2-QIXZ"
      },
      "source": [
        "## Categorical Features\n"
      ]
    },
    {
      "cell_type": "code",
      "metadata": {
        "colab": {
          "base_uri": "https://localhost:8080/",
          "height": 204
        },
        "id": "MrKnhNIMQMfz",
        "outputId": "2a9a8068-165d-4912-cc51-f5f590106b26"
      },
      "source": [
        "import seaborn as sns\n",
        "import pandas as pd\n",
        "\n",
        "df = sns.load_dataset('titanic')\n",
        "\n",
        "df.head()"
      ],
      "execution_count": null,
      "outputs": [
        {
          "output_type": "execute_result",
          "data": {
            "text/html": [
              "<div>\n",
              "<style scoped>\n",
              "    .dataframe tbody tr th:only-of-type {\n",
              "        vertical-align: middle;\n",
              "    }\n",
              "\n",
              "    .dataframe tbody tr th {\n",
              "        vertical-align: top;\n",
              "    }\n",
              "\n",
              "    .dataframe thead th {\n",
              "        text-align: right;\n",
              "    }\n",
              "</style>\n",
              "<table border=\"1\" class=\"dataframe\">\n",
              "  <thead>\n",
              "    <tr style=\"text-align: right;\">\n",
              "      <th></th>\n",
              "      <th>survived</th>\n",
              "      <th>pclass</th>\n",
              "      <th>sex</th>\n",
              "      <th>age</th>\n",
              "      <th>sibsp</th>\n",
              "      <th>parch</th>\n",
              "      <th>fare</th>\n",
              "      <th>embarked</th>\n",
              "      <th>class</th>\n",
              "      <th>who</th>\n",
              "      <th>adult_male</th>\n",
              "      <th>deck</th>\n",
              "      <th>embark_town</th>\n",
              "      <th>alive</th>\n",
              "      <th>alone</th>\n",
              "    </tr>\n",
              "  </thead>\n",
              "  <tbody>\n",
              "    <tr>\n",
              "      <th>0</th>\n",
              "      <td>0</td>\n",
              "      <td>3</td>\n",
              "      <td>male</td>\n",
              "      <td>22.0</td>\n",
              "      <td>1</td>\n",
              "      <td>0</td>\n",
              "      <td>7.2500</td>\n",
              "      <td>S</td>\n",
              "      <td>Third</td>\n",
              "      <td>man</td>\n",
              "      <td>True</td>\n",
              "      <td>NaN</td>\n",
              "      <td>Southampton</td>\n",
              "      <td>no</td>\n",
              "      <td>False</td>\n",
              "    </tr>\n",
              "    <tr>\n",
              "      <th>1</th>\n",
              "      <td>1</td>\n",
              "      <td>1</td>\n",
              "      <td>female</td>\n",
              "      <td>38.0</td>\n",
              "      <td>1</td>\n",
              "      <td>0</td>\n",
              "      <td>71.2833</td>\n",
              "      <td>C</td>\n",
              "      <td>First</td>\n",
              "      <td>woman</td>\n",
              "      <td>False</td>\n",
              "      <td>C</td>\n",
              "      <td>Cherbourg</td>\n",
              "      <td>yes</td>\n",
              "      <td>False</td>\n",
              "    </tr>\n",
              "    <tr>\n",
              "      <th>2</th>\n",
              "      <td>1</td>\n",
              "      <td>3</td>\n",
              "      <td>female</td>\n",
              "      <td>26.0</td>\n",
              "      <td>0</td>\n",
              "      <td>0</td>\n",
              "      <td>7.9250</td>\n",
              "      <td>S</td>\n",
              "      <td>Third</td>\n",
              "      <td>woman</td>\n",
              "      <td>False</td>\n",
              "      <td>NaN</td>\n",
              "      <td>Southampton</td>\n",
              "      <td>yes</td>\n",
              "      <td>True</td>\n",
              "    </tr>\n",
              "    <tr>\n",
              "      <th>3</th>\n",
              "      <td>1</td>\n",
              "      <td>1</td>\n",
              "      <td>female</td>\n",
              "      <td>35.0</td>\n",
              "      <td>1</td>\n",
              "      <td>0</td>\n",
              "      <td>53.1000</td>\n",
              "      <td>S</td>\n",
              "      <td>First</td>\n",
              "      <td>woman</td>\n",
              "      <td>False</td>\n",
              "      <td>C</td>\n",
              "      <td>Southampton</td>\n",
              "      <td>yes</td>\n",
              "      <td>False</td>\n",
              "    </tr>\n",
              "    <tr>\n",
              "      <th>4</th>\n",
              "      <td>0</td>\n",
              "      <td>3</td>\n",
              "      <td>male</td>\n",
              "      <td>35.0</td>\n",
              "      <td>0</td>\n",
              "      <td>0</td>\n",
              "      <td>8.0500</td>\n",
              "      <td>S</td>\n",
              "      <td>Third</td>\n",
              "      <td>man</td>\n",
              "      <td>True</td>\n",
              "      <td>NaN</td>\n",
              "      <td>Southampton</td>\n",
              "      <td>no</td>\n",
              "      <td>True</td>\n",
              "    </tr>\n",
              "  </tbody>\n",
              "</table>\n",
              "</div>"
            ],
            "text/plain": [
              "   survived  pclass     sex   age  ...  deck  embark_town  alive  alone\n",
              "0         0       3    male  22.0  ...   NaN  Southampton     no  False\n",
              "1         1       1  female  38.0  ...     C    Cherbourg    yes  False\n",
              "2         1       3  female  26.0  ...   NaN  Southampton    yes   True\n",
              "3         1       1  female  35.0  ...     C  Southampton    yes  False\n",
              "4         0       3    male  35.0  ...   NaN  Southampton     no   True\n",
              "\n",
              "[5 rows x 15 columns]"
            ]
          },
          "metadata": {
            "tags": []
          },
          "execution_count": 101
        }
      ]
    },
    {
      "cell_type": "code",
      "metadata": {
        "colab": {
          "base_uri": "https://localhost:8080/"
        },
        "id": "33cMA2uBQRiK",
        "outputId": "8180a4bc-b32a-40fd-dcf7-66dfdf3414cb"
      },
      "source": [
        "df.isna().sum()"
      ],
      "execution_count": null,
      "outputs": [
        {
          "output_type": "execute_result",
          "data": {
            "text/plain": [
              "survived         0\n",
              "pclass           0\n",
              "sex              0\n",
              "age            177\n",
              "sibsp            0\n",
              "parch            0\n",
              "fare             0\n",
              "embarked         2\n",
              "class            0\n",
              "who              0\n",
              "adult_male       0\n",
              "deck           688\n",
              "embark_town      2\n",
              "alive            0\n",
              "alone            0\n",
              "dtype: int64"
            ]
          },
          "metadata": {
            "tags": []
          },
          "execution_count": 102
        }
      ]
    },
    {
      "cell_type": "code",
      "metadata": {
        "id": "gDoY5pDiQY7-",
        "colab": {
          "base_uri": "https://localhost:8080/"
        },
        "outputId": "e4e54649-77b3-4ed7-8039-0e985ad08575"
      },
      "source": [
        "from sklearn.impute import SimpleImputer\n",
        "from sklearn.preprocessing import MinMaxScaler\n",
        "from sklearn.preprocessing import OrdinalEncoder\n",
        "from sklearn.preprocessing import OneHotEncoder\n",
        "import numpy as np\n",
        "\n",
        "impute_med = SimpleImputer(strategy='median')\n",
        "impute_mod = SimpleImputer(strategy='most_frequent')\n",
        "\n",
        "scaler = MinMaxScaler()\n",
        "ord_encoder = OrdinalEncoder()\n",
        "one_hot_encoder = OneHotEncoder()\n",
        "\n",
        "age_imp = impute_med.fit_transform(df[['age']])\n",
        "embarked_imp = impute_mod.fit_transform(df[['embarked']])\n",
        "\n",
        "sex_encode = ord_encoder.fit_transform(df[['sex']])\n",
        "embarked_encode = one_hot_encoder.fit_transform(embarked_imp).toarray()\n",
        "\n",
        "age_standard = scaler.fit_transform(age_imp)\n",
        "fare_standard = scaler.fit_transform(df[['fare']])\n",
        "\n",
        "data_df = np.c_[age_standard, fare_standard, sex_encode, embarked_encode]\n",
        "data_df"
      ],
      "execution_count": null,
      "outputs": [
        {
          "output_type": "execute_result",
          "data": {
            "text/plain": [
              "array([[0.27117366, 0.01415106, 1.        , 0.        , 0.        ,\n",
              "        1.        ],\n",
              "       [0.4722292 , 0.13913574, 0.        , 1.        , 0.        ,\n",
              "        0.        ],\n",
              "       [0.32143755, 0.01546857, 0.        , 0.        , 0.        ,\n",
              "        1.        ],\n",
              "       ...,\n",
              "       [0.34656949, 0.04577135, 0.        , 0.        , 0.        ,\n",
              "        1.        ],\n",
              "       [0.32143755, 0.0585561 , 1.        , 1.        , 0.        ,\n",
              "        0.        ],\n",
              "       [0.39683338, 0.01512699, 1.        , 0.        , 1.        ,\n",
              "        0.        ]])"
            ]
          },
          "metadata": {
            "tags": []
          },
          "execution_count": 103
        }
      ]
    },
    {
      "cell_type": "markdown",
      "metadata": {
        "id": "i3syfIMxC5H2"
      },
      "source": [
        "### Classification and Classification Metrics"
      ]
    },
    {
      "cell_type": "code",
      "metadata": {
        "id": "9SYFp5xRzmGW",
        "colab": {
          "base_uri": "https://localhost:8080/"
        },
        "outputId": "8666870c-810a-45bf-f1c9-ad3ca85d13c2"
      },
      "source": [
        "from sklearn.linear_model import LogisticRegression, SGDClassifier\n",
        "from sklearn.metrics import accuracy_score\n",
        "from sklearn.model_selection import train_test_split\n",
        "\n",
        "x_train, x_test, y_train, y_test = train_test_split(data_df, df[['survived']], test_size=0.2)\n",
        "\n",
        "y_train = y_train.values.ravel()\n",
        "y_test = y_test.values\n",
        "\n",
        "# Logistic Regression\n",
        "lr = LogisticRegression()\n",
        "lr.fit(x_train, y_train)\n",
        "\n",
        "y_pred = lr.predict(x_test)\n",
        "print(f\"Logistic Regression Test Accuracy: {accuracy_score(y_test, y_pred)}\")\n",
        "\n",
        "# Stochastic Gradient Descent\n",
        "\"\"\"Different loss functions to try: \n",
        "  hinge loss (SVMs) or log loss (Logistic) or modified_huber (smoothed SVMs)\n",
        "\n",
        "  Different penalties vs L1, L2, Elastic Net (use l1_ratio if using elasticnet)\n",
        "  alpha for the regularization coefficient - By default, SGDClassifier will perform L2 with alpha = 0.0001\n",
        "\n",
        "  max_iter - # of iterations to perform SGD and \n",
        "  early stopping as well\n",
        "  \n",
        "  Different learning rates (either constant, adaptive or optimal via formula)\n",
        "  If learning rate is NOT optimal, must specify eta0 as initial learning rate\n",
        "\n",
        "\"\"\"\n",
        "sgd = SGDClassifier(loss=\"hinge\", early_stopping=True, max_iter=2000, alpha=0.05)\n",
        "sgd.fit(x_train, y_train)\n",
        "\n",
        "y_pred2 = sgd.predict(x_test)\n",
        "print(f\"SGD Test Accuracy: {accuracy_score(y_test, y_pred2)}\")"
      ],
      "execution_count": null,
      "outputs": [
        {
          "output_type": "stream",
          "text": [
            "Logistic Regression Test Accuracy: 0.7877094972067039\n",
            "SGD Test Accuracy: 0.7821229050279329\n"
          ],
          "name": "stdout"
        }
      ]
    },
    {
      "cell_type": "code",
      "metadata": {
        "id": "EwgDvSwa7ikG",
        "colab": {
          "base_uri": "https://localhost:8080/"
        },
        "outputId": "4d13fbd4-174e-40ce-dd2a-a0c758648f48"
      },
      "source": [
        "# Precision and Recall\n",
        "from sklearn.metrics import precision_score, recall_score, precision_recall_curve, average_precision_score\n",
        "import matplotlib.pyplot as plt\n",
        "\n",
        "print(f\"Logistic Precision: {precision_score(y_test, y_pred)}\")\n",
        "print(f\"Logistic Recall: {recall_score(y_test, y_pred)}\")\n",
        "log_ap = average_precision_score(y_test, y_pred)\n",
        "print(f\"AP: {log_ap}\")\n",
        "print()\n",
        "print(f\"SGD Precision: {precision_score(y_test, y_pred2)}\")\n",
        "print(f\"SGD Recall: {recall_score(y_test, y_pred2)}\")\n",
        "sgd_ap = average_precision_score(y_test, y_pred2)\n",
        "print(f\"AP: {sgd_ap}\")"
      ],
      "execution_count": null,
      "outputs": [
        {
          "output_type": "stream",
          "text": [
            "Logistic Precision: 0.7536231884057971\n",
            "Logistic Recall: 0.7123287671232876\n",
            "AP: 0.6541459124268125\n",
            "\n",
            "SGD Precision: 0.75\n",
            "SGD Recall: 0.6986301369863014\n",
            "AP: 0.6468776306726869\n"
          ],
          "name": "stdout"
        }
      ]
    },
    {
      "cell_type": "code",
      "metadata": {
        "colab": {
          "base_uri": "https://localhost:8080/",
          "height": 770
        },
        "id": "uw3i7MnqDJdv",
        "outputId": "5f33dbb9-3792-4c0f-c7ca-3fd57ab05d14"
      },
      "source": [
        "from sklearn.metrics import plot_precision_recall_curve, plot_confusion_matrix, plot_roc_curve\n",
        "plot_precision_recall_curve(sgd, x_test, y_test)\n",
        "plot_precision_recall_curve(lr, x_test, y_test)"
      ],
      "execution_count": null,
      "outputs": [
        {
          "output_type": "execute_result",
          "data": {
            "text/plain": [
              "<sklearn.metrics._plot.precision_recall_curve.PrecisionRecallDisplay at 0x7f3df4d41cd0>"
            ]
          },
          "metadata": {
            "tags": []
          },
          "execution_count": 106
        },
        {
          "output_type": "display_data",
          "data": {
            "image/png": "[encoded data removed]",
            "text/plain": [
              "<Figure size 576x396 with 1 Axes>"
            ]
          },
          "metadata": {
            "tags": []
          }
        },
        {
          "output_type": "display_data",
          "data": {
            "image/png": "[encoded data removed]",
            "text/plain": [
              "<Figure size 576x396 with 1 Axes>"
            ]
          },
          "metadata": {
            "tags": []
          }
        }
      ]
    },
    {
      "cell_type": "code",
      "metadata": {
        "colab": {
          "base_uri": "https://localhost:8080/"
        },
        "id": "gpgkv9LmQvNV",
        "outputId": "7cf75f24-d324-4607-fecb-9122980fcae6"
      },
      "source": [
        "from sklearn.metrics import confusion_matrix\n",
        "print(f\"Logistic Regression Confusion Matrix: \\n{confusion_matrix(y_test, y_pred)}\")\n",
        "print()\n",
        "print(f\"SGD Confusion Matrix: \\n{confusion_matrix(y_test, y_pred2)}\")"
      ],
      "execution_count": null,
      "outputs": [
        {
          "output_type": "stream",
          "text": [
            "Logistic Regression Confusion Matrix: \n",
            "[[89 17]\n",
            " [21 52]]\n",
            "\n",
            "SGD Confusion Matrix: \n",
            "[[89 17]\n",
            " [22 51]]\n"
          ],
          "name": "stdout"
        }
      ]
    },
    {
      "cell_type": "code",
      "metadata": {
        "colab": {
          "base_uri": "https://localhost:8080/",
          "height": 406
        },
        "id": "_MDF4hL0KCFg",
        "outputId": "a5a1b1d3-7c8a-4d55-f71c-5d2e92eafde6"
      },
      "source": [
        "plot_confusion_matrix(lr, x_test, y_test, cmap='summer')"
      ],
      "execution_count": null,
      "outputs": [
        {
          "output_type": "execute_result",
          "data": {
            "text/plain": [
              "<sklearn.metrics._plot.confusion_matrix.ConfusionMatrixDisplay at 0x7f3df53f36d0>"
            ]
          },
          "metadata": {
            "tags": []
          },
          "execution_count": 82
        },
        {
          "output_type": "display_data",
          "data": {
            "image/png": "[encoded data removed]",
            "text/plain": [
              "<Figure size 576x396 with 2 Axes>"
            ]
          },
          "metadata": {
            "tags": []
          }
        }
      ]
    },
    {
      "cell_type": "code",
      "metadata": {
        "colab": {
          "base_uri": "https://localhost:8080/"
        },
        "id": "hRgxTYHOLRN0",
        "outputId": "179cf401-6430-46b0-b872-16ee745aa69e"
      },
      "source": [
        "from sklearn.metrics import classification_report\n",
        "print(classification_report(y_test, y_pred))"
      ],
      "execution_count": null,
      "outputs": [
        {
          "output_type": "stream",
          "text": [
            "              precision    recall  f1-score   support\n",
            "\n",
            "           0       0.81      0.84      0.82       106\n",
            "           1       0.75      0.71      0.73        73\n",
            "\n",
            "    accuracy                           0.79       179\n",
            "   macro avg       0.78      0.78      0.78       179\n",
            "weighted avg       0.79      0.79      0.79       179\n",
            "\n"
          ],
          "name": "stdout"
        }
      ]
    },
    {
      "cell_type": "code",
      "metadata": {
        "colab": {
          "base_uri": "https://localhost:8080/",
          "height": 402
        },
        "id": "oFqLqp8tLZzz",
        "outputId": "0ba3eba2-0671-4dfe-c3fd-1d1021eac1ad"
      },
      "source": [
        "plot_roc_curve(lr, x_test, y_test)"
      ],
      "execution_count": null,
      "outputs": [
        {
          "output_type": "execute_result",
          "data": {
            "text/plain": [
              "<sklearn.metrics._plot.roc_curve.RocCurveDisplay at 0x7f3df4f552d0>"
            ]
          },
          "metadata": {
            "tags": []
          },
          "execution_count": 84
        },
        {
          "output_type": "display_data",
          "data": {
            "image/png": "[encoded data removed]",
            "text/plain": [
              "<Figure size 576x396 with 1 Axes>"
            ]
          },
          "metadata": {
            "tags": []
          }
        }
      ]
    },
    {
      "cell_type": "code",
      "metadata": {
        "id": "pI3n00nJLoV9",
        "colab": {
          "base_uri": "https://localhost:8080/",
          "height": 402
        },
        "outputId": "0bf144d8-2e63-4100-8730-6c8052b19d78"
      },
      "source": [
        "plot_roc_curve(sgd, x_test, y_test)"
      ],
      "execution_count": null,
      "outputs": [
        {
          "output_type": "execute_result",
          "data": {
            "text/plain": [
              "<sklearn.metrics._plot.roc_curve.RocCurveDisplay at 0x7f3df4ece050>"
            ]
          },
          "metadata": {
            "tags": []
          },
          "execution_count": 85
        },
        {
          "output_type": "display_data",
          "data": {
            "image/png": "[encoded data removed]",
            "text/plain": [
              "<Figure size 576x396 with 1 Axes>"
            ]
          },
          "metadata": {
            "tags": []
          }
        }
      ]
    },
    {
      "cell_type": "code",
      "metadata": {
        "id": "PrbggvA6LsKC"
      },
      "source": [
        ""
      ],
      "execution_count": null,
      "outputs": []
    }
  ]
}