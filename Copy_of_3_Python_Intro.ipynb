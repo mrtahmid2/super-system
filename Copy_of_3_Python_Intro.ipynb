{
  "nbformat": 4,
  "nbformat_minor": 0,
  "metadata": {
    "kernelspec": {
      "display_name": "Python 3",
      "language": "python",
      "name": "python3"
    },
    "language_info": {
      "codemirror_mode": {
        "name": "ipython",
        "version": 3
      },
      "file_extension": ".py",
      "mimetype": "text/x-python",
      "name": "python",
      "nbconvert_exporter": "python",
      "pygments_lexer": "ipython3",
      "version": "3.6.8"
    },
    "colab": {
      "name": "Copy of #3: Python Intro.ipynb",
      "provenance": [],
      "collapsed_sections": [
        "0iDvQFP0g5i2",
        "UGyeDb6lzWyi",
        "N4LHLCR9RcW9",
        "QXKeKQZQRIc8",
        "Y6J9a2b8eFm8",
        "AxOKb4SFeFnC",
        "_K6vISz9WEav",
        "-c-He1h4W_cr",
        "Oeag1IjZeFmw",
        "F_vCTrQueFnM",
        "RQoHhHk9eFmh",
        "9frGMrR4iZPB",
        "vjiZd29niKTi",
        "Mum5e_hrfmnH",
        "V6ivLiVUeFm6",
        "78wBkQn7eFnT",
        "As-aHa4HeFnm",
        "zBecrjB1ZFt7",
        "eGi2uuutbaZb"
      ],
      "toc_visible": true,
      "include_colab_link": true
    }
  },
  "cells": [
    {
      "cell_type": "markdown",
      "metadata": {
        "id": "view-in-github",
        "colab_type": "text"
      },
      "source": [
        "<a href=\"https://colab.research.google.com/github/mrtahmid2/super-system/blob/main/Copy_of_3_Python_Intro.ipynb\" target=\"_parent\"><img src=\"https://colab.research.google.com/assets/colab-badge.svg\" alt=\"Open In Colab\"/></a>"
      ]
    },
    {
      "cell_type": "markdown",
      "metadata": {
        "id": "2sMiCqCZeFl3"
      },
      "source": [
        "# Introduction to Python\n",
        "*ML Club 2021 Colab*"
      ]
    },
    {
      "cell_type": "code",
      "metadata": {
        "colab": {
          "base_uri": "https://localhost:8080/"
        },
        "id": "LBrhihFfGxj5",
        "outputId": "e3ba9420-9fb0-4f91-dddb-4e3e68f543fb"
      },
      "source": [
        "print(\"Tahmid ...\")"
      ],
      "execution_count": null,
      "outputs": [
        {
          "output_type": "stream",
          "text": [
            "Tahmid ...\n"
          ],
          "name": "stdout"
        }
      ]
    },
    {
      "cell_type": "markdown",
      "metadata": {
        "id": "KmGro9gheFl8"
      },
      "source": [
        "This is a very brief, surface-level intro to the Python programming language that will let you experiment with the basic data types and commands. Don't worry if not everything is entirely clear, we'll keep using these concepts throughout the next two weeks and they will become more familiar. This is meant to be a fun exercise that will make you want to keep programming!\n",
        "\n",
        "The material is loosely based from Jukka Pekka Onnela's BST 267's \"Introduction to Social and Biological Networks\" course, if you're interested you can also check out his Harvardx course [Using Python for Research](https://www.hsph.harvard.edu/onnela-lab/learning/)"
      ]
    },
    {
      "cell_type": "markdown",
      "metadata": {
        "id": "eA3YzQQYeFl_"
      },
      "source": [
        "## Basic data types"
      ]
    },
    {
      "cell_type": "markdown",
      "metadata": {
        "id": "9x108jMBeFmD"
      },
      "source": [
        "Python can handle many types of data represented by objects.\n",
        "- The value of some objects can change. Objects whose value can change are said\n",
        "to be **mutable**, whereas objects whose value is unchangeable once they are\n",
        "created are called **immutable**.\n",
        "- Python also contains **built-in functions** that can be used by all Python programs.\n",
        "- The “Python library” consists of all core elements, such as data types and built-in functions, but the bulk of it consists of modules.\n",
        "- To make use of modules in your code, you first need to **import them** using the `import` statement.\n",
        "\n",
        "These characteristics will make sense to you as we advance in the course. Let's start with a simple practical example using text which we'll later explore in further depth:"
      ]
    },
    {
      "cell_type": "markdown",
      "metadata": {
        "id": "AANiWTJ_eFmG"
      },
      "source": [
        "The simplest built-in function to use in Python is the `print()` statement, which outputs a symbol to the console / terminal. For Google Colaboratory notebooks, the `print()` function will output the symbols given to it directly under the code block it is located in.\n",
        "\n",
        "The following code block prints the number `23` to the console using the `print()` function. Furthermore, it shows that text can also be outputed to the console by wrapping all text in quotation marks or apostrophes (`\"\"` or `''` - *you cannot mix the two symbols*). \n",
        "\n",
        "You can run the code block by hovering over the `[]` to the left of the code or focusing on the code block and pressing <kbd>Shift</kbd> + <kbd>Enter</kbd>."
      ]
    },
    {
      "cell_type": "code",
      "metadata": {
        "id": "FRjAgG6weFmI",
        "colab": {
          "base_uri": "https://localhost:8080/"
        },
        "outputId": "4fe25154-5a81-4cae-a884-f96fbb763756"
      },
      "source": [
        "print(23)\n",
        "print('Hello World!')\n",
        "print(\"What is your name?\")"
      ],
      "execution_count": null,
      "outputs": [
        {
          "output_type": "stream",
          "text": [
            "23\n",
            "Hello World!\n",
            "What is your name?\n"
          ],
          "name": "stdout"
        }
      ]
    },
    {
      "cell_type": "markdown",
      "metadata": {
        "id": "9mBR2GCFfqr8"
      },
      "source": [
        "### Variables and Comments"
      ]
    },
    {
      "cell_type": "markdown",
      "metadata": {
        "id": "wDn9WaDSfstA"
      },
      "source": [
        "Whenever you want to notate something to yourself during a piece of code, you can use the hash or pound symbol (`#`) to create a comment.\n",
        "\n",
        "The following comment below will not be read by the Python interpreter but tells the coder that he/she is welcomed to the ML Club.\n",
        "\n",
        "\n",
        "```\n",
        "# Welcome to ML Club!!!\n",
        "```\n",
        "\n"
      ]
    },
    {
      "cell_type": "code",
      "metadata": {
        "id": "cKhYSZ0rfsG0",
        "colab": {
          "base_uri": "https://localhost:8080/"
        },
        "outputId": "68c59d6c-a3f1-4bc7-bcef-483b543d0729"
      },
      "source": [
        "# TODO learn how to use f-strings\n",
        "print(\"hello there\")"
      ],
      "execution_count": null,
      "outputs": [
        {
          "output_type": "stream",
          "text": [
            "hello there\n"
          ],
          "name": "stdout"
        }
      ]
    },
    {
      "cell_type": "code",
      "metadata": {
        "id": "YInUHINEF165",
        "colab": {
          "base_uri": "https://localhost:8080/"
        },
        "outputId": "f25ec142-3734-48cc-f836-d248da70b7bc"
      },
      "source": [
        "print(\"you just got MICE JUICED\")"
      ],
      "execution_count": null,
      "outputs": [
        {
          "output_type": "stream",
          "text": [
            "you just got MICE JUICED\n"
          ],
          "name": "stdout"
        }
      ]
    },
    {
      "cell_type": "markdown",
      "metadata": {
        "id": "LC4wi-dwPPrY"
      },
      "source": [
        "The text above does not print out the comment telling the user to learn about *f-strings* but does print the message `hello world` since the message started with a pound symbol.\n",
        "\n",
        "---"
      ]
    },
    {
      "cell_type": "markdown",
      "metadata": {
        "id": "jT0sCjAZgE7v"
      },
      "source": [
        "Variables can be created with any of the data types shown in the presentation. You can place a `string` (words wrapped in quotation marks or apostrophes), integer, decimal or your own object. All you need to do is define a name for your variable just like in math class!"
      ]
    },
    {
      "cell_type": "code",
      "metadata": {
        "id": "QhuALpg_gSex",
        "colab": {
          "base_uri": "https://localhost:8080/"
        },
        "outputId": "6c2d566c-1521-470f-91e3-4a3a81ea3f5f"
      },
      "source": [
        "x = 5 # this variable x has the integer value of 5\n",
        "print(x + 5) # What is x + 5?\n",
        "\n",
        "print(x ** 2) # What is x^2 (the ** means exponentiation)?\n",
        "\n",
        "print(x * 2 * 4) # What is x times 8?\n",
        "\n",
        "print(x ** 2 + 4) # Note that this follows PEMDAS - (x ^ 2) + 4\n",
        "\n",
        "print(x + 4 ** 2) # Note that this follows PEMDAS - (x ^ 2) + 4"
      ],
      "execution_count": null,
      "outputs": [
        {
          "output_type": "stream",
          "text": [
            "10\n",
            "25\n",
            "40\n",
            "29\n",
            "21\n"
          ],
          "name": "stdout"
        }
      ]
    },
    {
      "cell_type": "code",
      "metadata": {
        "id": "djmyfYA-gjWt",
        "colab": {
          "base_uri": "https://localhost:8080/"
        },
        "outputId": "68793e88-ec9f-4a69-c825-39091bed3d95"
      },
      "source": [
        "decimal = 2.5 # This is a floating-point number (float) or a mathematical decimal\n",
        "\n",
        "print(decimal + 5) # What is 'decimal' + 5?\n",
        "\n",
        "print(decimal ** 2)\n",
        "\n",
        "print(decimal * 2 * 5)"
      ],
      "execution_count": null,
      "outputs": [
        {
          "output_type": "stream",
          "text": [
            "7.5\n",
            "6.25\n",
            "25.0\n"
          ],
          "name": "stdout"
        }
      ]
    },
    {
      "cell_type": "markdown",
      "metadata": {
        "id": "UeJXYBAsP7Qy"
      },
      "source": [
        "You can add integers and floats together."
      ]
    },
    {
      "cell_type": "code",
      "metadata": {
        "colab": {
          "base_uri": "https://localhost:8080/"
        },
        "id": "friG5eTRQCUU",
        "outputId": "6c382936-2d72-4efa-caad-29630109ff46"
      },
      "source": [
        "print(decimal + x) # 2.5 + 5\n",
        "print(decimal * x) # 2.5 * 5\n",
        "print(decimal / x) # 2.5 / 5"
      ],
      "execution_count": null,
      "outputs": [
        {
          "output_type": "stream",
          "text": [
            "7.5\n",
            "12.5\n",
            "0.5\n"
          ],
          "name": "stdout"
        }
      ]
    },
    {
      "cell_type": "markdown",
      "metadata": {
        "id": "ukYYFFzpymR8"
      },
      "source": [
        "An **f-string** is created by using the `f` syntax before putting the quotations in your string. This allows you to easily concatenate a string and an integer together.\n",
        "<br> <br>\n",
        "This is super handy!!!\n",
        "Just put the expression you want in your string in the `{}`!"
      ]
    },
    {
      "cell_type": "code",
      "metadata": {
        "id": "BfZGj4h2y8Xr",
        "colab": {
          "base_uri": "https://localhost:8080/"
        },
        "outputId": "42ef851e-3d60-475f-8b0f-85f97e432abc"
      },
      "source": [
        "seconds = 6000\n",
        "\n",
        "mins = 6000 / 60\n",
        "print(f\"The total minutes is {mins}\")\n",
        "\n",
        "# OR YOU CAN DO THIS!\n",
        "print(f\"The total minutes is {seconds / 60}\")"
      ],
      "execution_count": null,
      "outputs": [
        {
          "output_type": "stream",
          "text": [
            "The total minutes is 100.0\n",
            "The total minutes is 100.0\n"
          ],
          "name": "stdout"
        }
      ]
    },
    {
      "cell_type": "markdown",
      "metadata": {
        "id": "7xvY204CCsH7"
      },
      "source": [
        "**Input**\n",
        "\n",
        "You can ask the user to input text into the program by using the `input()` method. You can give the user a prompt for their input by placing a `string` as an argument to this `input()` method.\n",
        "\n",
        "Below is an example:"
      ]
    },
    {
      "cell_type": "code",
      "metadata": {
        "colab": {
          "base_uri": "https://localhost:8080/"
        },
        "id": "jrLzR5CWFCP6",
        "outputId": "239d8692-5d1c-4b12-9e64-bfad4c073c1e"
      },
      "source": [
        "print('Hello, what is your name?')\n",
        "name = input()\n",
        "print(f'How are you, {name}?')"
      ],
      "execution_count": null,
      "outputs": [
        {
          "output_type": "stream",
          "text": [
            "Hello, what is your name?\n",
            "akhi\n",
            "How are you, akhi?\n"
          ],
          "name": "stdout"
        }
      ]
    },
    {
      "cell_type": "markdown",
      "metadata": {
        "id": "bkX4WD5CFQIn"
      },
      "source": [
        "If you wish for the user to input a number, you have to explicitly convert the user's input, which is a `string` to a decimal or an integer or else you will recieve a `TypeError`."
      ]
    },
    {
      "cell_type": "code",
      "metadata": {
        "colab": {
          "base_uri": "https://localhost:8080/",
          "height": 232
        },
        "id": "ejZmdNlmFYzk",
        "outputId": "29500f74-ef17-4f2b-e27f-dd9d7419750f"
      },
      "source": [
        "num1 = input('Input a number: ')\n",
        "num2 = input('Input another number: ')\n",
        "print(f'The product of the numbers is {num1 * num2}')"
      ],
      "execution_count": null,
      "outputs": [
        {
          "output_type": "stream",
          "text": [
            "Input a number: 1\n",
            "Input another number: 2\n"
          ],
          "name": "stdout"
        },
        {
          "output_type": "error",
          "ename": "TypeError",
          "evalue": "ignored",
          "traceback": [
            "\u001b[0;31m---------------------------------------------------------------------------\u001b[0m",
            "\u001b[0;31mTypeError\u001b[0m                                 Traceback (most recent call last)",
            "\u001b[0;32m<ipython-input-22-49dfe9f8934f>\u001b[0m in \u001b[0;36m<module>\u001b[0;34m()\u001b[0m\n\u001b[1;32m      1\u001b[0m \u001b[0mnum1\u001b[0m \u001b[0;34m=\u001b[0m \u001b[0minput\u001b[0m\u001b[0;34m(\u001b[0m\u001b[0;34m'Input a number: '\u001b[0m\u001b[0;34m)\u001b[0m\u001b[0;34m\u001b[0m\u001b[0;34m\u001b[0m\u001b[0m\n\u001b[1;32m      2\u001b[0m \u001b[0mnum2\u001b[0m \u001b[0;34m=\u001b[0m \u001b[0minput\u001b[0m\u001b[0;34m(\u001b[0m\u001b[0;34m'Input another number: '\u001b[0m\u001b[0;34m)\u001b[0m\u001b[0;34m\u001b[0m\u001b[0;34m\u001b[0m\u001b[0m\n\u001b[0;32m----> 3\u001b[0;31m \u001b[0mprint\u001b[0m\u001b[0;34m(\u001b[0m\u001b[0;34mf'The product of the numbers is {num1 * num2}'\u001b[0m\u001b[0;34m)\u001b[0m\u001b[0;34m\u001b[0m\u001b[0;34m\u001b[0m\u001b[0m\n\u001b[0m",
            "\u001b[0;31mTypeError\u001b[0m: can't multiply sequence by non-int of type 'str'"
          ]
        }
      ]
    },
    {
      "cell_type": "code",
      "metadata": {
        "colab": {
          "base_uri": "https://localhost:8080/",
          "height": 528
        },
        "id": "7kBsEfBWFrHa",
        "outputId": "3f6de43a-a6a6-40df-a73f-8509afc8fa20"
      },
      "source": [
        "num1 = int(input('Input a number: ')) # int() converts a number in quotation marks / apostrophes to a Python integer\n",
        "num2 = int(input('Input another number: '))\n",
        "print(f'The product of the numbers is {num1 * num2}')"
      ],
      "execution_count": null,
      "outputs": [
        {
          "output_type": "error",
          "ename": "KeyboardInterrupt",
          "evalue": "ignored",
          "traceback": [
            "\u001b[0;31m---------------------------------------------------------------------------\u001b[0m",
            "\u001b[0;31mKeyboardInterrupt\u001b[0m                         Traceback (most recent call last)",
            "\u001b[0;32m/usr/local/lib/python3.6/dist-packages/ipykernel/kernelbase.py\u001b[0m in \u001b[0;36m_input_request\u001b[0;34m(self, prompt, ident, parent, password)\u001b[0m\n\u001b[1;32m    728\u001b[0m             \u001b[0;32mtry\u001b[0m\u001b[0;34m:\u001b[0m\u001b[0;34m\u001b[0m\u001b[0;34m\u001b[0m\u001b[0m\n\u001b[0;32m--> 729\u001b[0;31m                 \u001b[0mident\u001b[0m\u001b[0;34m,\u001b[0m \u001b[0mreply\u001b[0m \u001b[0;34m=\u001b[0m \u001b[0mself\u001b[0m\u001b[0;34m.\u001b[0m\u001b[0msession\u001b[0m\u001b[0;34m.\u001b[0m\u001b[0mrecv\u001b[0m\u001b[0;34m(\u001b[0m\u001b[0mself\u001b[0m\u001b[0;34m.\u001b[0m\u001b[0mstdin_socket\u001b[0m\u001b[0;34m,\u001b[0m \u001b[0;36m0\u001b[0m\u001b[0;34m)\u001b[0m\u001b[0;34m\u001b[0m\u001b[0;34m\u001b[0m\u001b[0m\n\u001b[0m\u001b[1;32m    730\u001b[0m             \u001b[0;32mexcept\u001b[0m \u001b[0mException\u001b[0m\u001b[0;34m:\u001b[0m\u001b[0;34m\u001b[0m\u001b[0;34m\u001b[0m\u001b[0m\n",
            "\u001b[0;32m/usr/local/lib/python3.6/dist-packages/jupyter_client/session.py\u001b[0m in \u001b[0;36mrecv\u001b[0;34m(self, socket, mode, content, copy)\u001b[0m\n\u001b[1;32m    802\u001b[0m         \u001b[0;32mtry\u001b[0m\u001b[0;34m:\u001b[0m\u001b[0;34m\u001b[0m\u001b[0;34m\u001b[0m\u001b[0m\n\u001b[0;32m--> 803\u001b[0;31m             \u001b[0mmsg_list\u001b[0m \u001b[0;34m=\u001b[0m \u001b[0msocket\u001b[0m\u001b[0;34m.\u001b[0m\u001b[0mrecv_multipart\u001b[0m\u001b[0;34m(\u001b[0m\u001b[0mmode\u001b[0m\u001b[0;34m,\u001b[0m \u001b[0mcopy\u001b[0m\u001b[0;34m=\u001b[0m\u001b[0mcopy\u001b[0m\u001b[0;34m)\u001b[0m\u001b[0;34m\u001b[0m\u001b[0;34m\u001b[0m\u001b[0m\n\u001b[0m\u001b[1;32m    804\u001b[0m         \u001b[0;32mexcept\u001b[0m \u001b[0mzmq\u001b[0m\u001b[0;34m.\u001b[0m\u001b[0mZMQError\u001b[0m \u001b[0;32mas\u001b[0m \u001b[0me\u001b[0m\u001b[0;34m:\u001b[0m\u001b[0;34m\u001b[0m\u001b[0;34m\u001b[0m\u001b[0m\n",
            "\u001b[0;32m/usr/local/lib/python3.6/dist-packages/zmq/sugar/socket.py\u001b[0m in \u001b[0;36mrecv_multipart\u001b[0;34m(self, flags, copy, track)\u001b[0m\n\u001b[1;32m    565\u001b[0m         \"\"\"\n\u001b[0;32m--> 566\u001b[0;31m         \u001b[0mparts\u001b[0m \u001b[0;34m=\u001b[0m \u001b[0;34m[\u001b[0m\u001b[0mself\u001b[0m\u001b[0;34m.\u001b[0m\u001b[0mrecv\u001b[0m\u001b[0;34m(\u001b[0m\u001b[0mflags\u001b[0m\u001b[0;34m,\u001b[0m \u001b[0mcopy\u001b[0m\u001b[0;34m=\u001b[0m\u001b[0mcopy\u001b[0m\u001b[0;34m,\u001b[0m \u001b[0mtrack\u001b[0m\u001b[0;34m=\u001b[0m\u001b[0mtrack\u001b[0m\u001b[0;34m)\u001b[0m\u001b[0;34m]\u001b[0m\u001b[0;34m\u001b[0m\u001b[0;34m\u001b[0m\u001b[0m\n\u001b[0m\u001b[1;32m    567\u001b[0m         \u001b[0;31m# have first part already, only loop while more to receive\u001b[0m\u001b[0;34m\u001b[0m\u001b[0;34m\u001b[0m\u001b[0;34m\u001b[0m\u001b[0m\n",
            "\u001b[0;32mzmq/backend/cython/socket.pyx\u001b[0m in \u001b[0;36mzmq.backend.cython.socket.Socket.recv\u001b[0;34m()\u001b[0m\n",
            "\u001b[0;32mzmq/backend/cython/socket.pyx\u001b[0m in \u001b[0;36mzmq.backend.cython.socket.Socket.recv\u001b[0;34m()\u001b[0m\n",
            "\u001b[0;32mzmq/backend/cython/socket.pyx\u001b[0m in \u001b[0;36mzmq.backend.cython.socket._recv_copy\u001b[0;34m()\u001b[0m\n",
            "\u001b[0;32m/usr/local/lib/python3.6/dist-packages/zmq/backend/cython/checkrc.pxd\u001b[0m in \u001b[0;36mzmq.backend.cython.checkrc._check_rc\u001b[0;34m()\u001b[0m\n",
            "\u001b[0;31mKeyboardInterrupt\u001b[0m: ",
            "\nDuring handling of the above exception, another exception occurred:\n",
            "\u001b[0;31mKeyboardInterrupt\u001b[0m                         Traceback (most recent call last)",
            "\u001b[0;32m<ipython-input-1-341f09fe5983>\u001b[0m in \u001b[0;36m<module>\u001b[0;34m()\u001b[0m\n\u001b[0;32m----> 1\u001b[0;31m \u001b[0mnum1\u001b[0m \u001b[0;34m=\u001b[0m \u001b[0mint\u001b[0m\u001b[0;34m(\u001b[0m\u001b[0minput\u001b[0m\u001b[0;34m(\u001b[0m\u001b[0;34m'Input a number: '\u001b[0m\u001b[0;34m)\u001b[0m\u001b[0;34m)\u001b[0m \u001b[0;31m# int() converts a number in quotation marks / apostrophes to a Python integer\u001b[0m\u001b[0;34m\u001b[0m\u001b[0;34m\u001b[0m\u001b[0m\n\u001b[0m\u001b[1;32m      2\u001b[0m \u001b[0mnum2\u001b[0m \u001b[0;34m=\u001b[0m \u001b[0mint\u001b[0m\u001b[0;34m(\u001b[0m\u001b[0minput\u001b[0m\u001b[0;34m(\u001b[0m\u001b[0;34m'Input another number: '\u001b[0m\u001b[0;34m)\u001b[0m\u001b[0;34m)\u001b[0m\u001b[0;34m\u001b[0m\u001b[0;34m\u001b[0m\u001b[0m\n\u001b[1;32m      3\u001b[0m \u001b[0mprint\u001b[0m\u001b[0;34m(\u001b[0m\u001b[0;34mf'The product of the numbers is {num1 * num2}'\u001b[0m\u001b[0;34m)\u001b[0m\u001b[0;34m\u001b[0m\u001b[0;34m\u001b[0m\u001b[0m\n",
            "\u001b[0;32m/usr/local/lib/python3.6/dist-packages/ipykernel/kernelbase.py\u001b[0m in \u001b[0;36mraw_input\u001b[0;34m(self, prompt)\u001b[0m\n\u001b[1;32m    702\u001b[0m             \u001b[0mself\u001b[0m\u001b[0;34m.\u001b[0m\u001b[0m_parent_ident\u001b[0m\u001b[0;34m,\u001b[0m\u001b[0;34m\u001b[0m\u001b[0;34m\u001b[0m\u001b[0m\n\u001b[1;32m    703\u001b[0m             \u001b[0mself\u001b[0m\u001b[0;34m.\u001b[0m\u001b[0m_parent_header\u001b[0m\u001b[0;34m,\u001b[0m\u001b[0;34m\u001b[0m\u001b[0;34m\u001b[0m\u001b[0m\n\u001b[0;32m--> 704\u001b[0;31m             \u001b[0mpassword\u001b[0m\u001b[0;34m=\u001b[0m\u001b[0;32mFalse\u001b[0m\u001b[0;34m,\u001b[0m\u001b[0;34m\u001b[0m\u001b[0;34m\u001b[0m\u001b[0m\n\u001b[0m\u001b[1;32m    705\u001b[0m         )\n\u001b[1;32m    706\u001b[0m \u001b[0;34m\u001b[0m\u001b[0m\n",
            "\u001b[0;32m/usr/local/lib/python3.6/dist-packages/ipykernel/kernelbase.py\u001b[0m in \u001b[0;36m_input_request\u001b[0;34m(self, prompt, ident, parent, password)\u001b[0m\n\u001b[1;32m    732\u001b[0m             \u001b[0;32mexcept\u001b[0m \u001b[0mKeyboardInterrupt\u001b[0m\u001b[0;34m:\u001b[0m\u001b[0;34m\u001b[0m\u001b[0;34m\u001b[0m\u001b[0m\n\u001b[1;32m    733\u001b[0m                 \u001b[0;31m# re-raise KeyboardInterrupt, to truncate traceback\u001b[0m\u001b[0;34m\u001b[0m\u001b[0;34m\u001b[0m\u001b[0;34m\u001b[0m\u001b[0m\n\u001b[0;32m--> 734\u001b[0;31m                 \u001b[0;32mraise\u001b[0m \u001b[0mKeyboardInterrupt\u001b[0m\u001b[0;34m\u001b[0m\u001b[0;34m\u001b[0m\u001b[0m\n\u001b[0m\u001b[1;32m    735\u001b[0m             \u001b[0;32melse\u001b[0m\u001b[0;34m:\u001b[0m\u001b[0;34m\u001b[0m\u001b[0;34m\u001b[0m\u001b[0m\n\u001b[1;32m    736\u001b[0m                 \u001b[0;32mbreak\u001b[0m\u001b[0;34m\u001b[0m\u001b[0;34m\u001b[0m\u001b[0m\n",
            "\u001b[0;31mKeyboardInterrupt\u001b[0m: "
          ]
        }
      ]
    },
    {
      "cell_type": "code",
      "metadata": {
        "colab": {
          "base_uri": "https://localhost:8080/"
        },
        "id": "pdFKqFeMF65F",
        "outputId": "608a7d7e-37c6-4fe3-c823-155431fd0829"
      },
      "source": [
        "2num1 = float(input('Input a number: ')) # float() converts a decimal in quotation marks / apostrophes to a Python decimal\n",
        "num2 = float(input('Input another number: '))\n",
        "print(f'The quotient of the numbers is {num1 / num2}')"
      ],
      "execution_count": null,
      "outputs": [
        {
          "output_type": "stream",
          "text": [
            "Input a number: 400\n",
            "Input another number: 20\n",
            "The quotient of the numbers is 20.0\n"
          ],
          "name": "stdout"
        }
      ]
    },
    {
      "cell_type": "markdown",
      "metadata": {
        "id": "0iDvQFP0g5i2"
      },
      "source": [
        "### Task\n",
        "\n",
        "\n",
        "1.   Create a floating-point value (`float`) and give it the value 10.75.\n",
        " *   Print this value to the 5<sup>th</sup> power.\n",
        " *   Print this value multiplied by 12\n",
        " *   Print this value divided by 15\n",
        " *   Print this value divided by 17 rounded to the lowest integer.\n",
        "\n",
        "\n",
        "\n",
        "\n",
        "2.   Create a `string` filled with your favorite text\n",
        " *   Fuse the string and a decimal together by printing a f-string combined of those two.\n",
        "4. Create a program that asks the user for one integer input and one decimal input and finds their difference.\n",
        "5. Create a program that asks the user for two integer inputs (`num1` and `num2`) and finds the remainder when `num1` divides `num2`.\n",
        "\n",
        "\n",
        "\n",
        "\n",
        "\n"
      ]
    },
    {
      "cell_type": "code",
      "metadata": {
        "id": "Iq9rTlYtgvOn",
        "colab": {
          "base_uri": "https://localhost:8080/"
        },
        "outputId": "ab8c10e9-f406-4418-c145-f708e272a589"
      },
      "source": [
        ""
      ],
      "execution_count": null,
      "outputs": [
        {
          "output_type": "stream",
          "text": [
            "2.5 you you me\n"
          ],
          "name": "stdout"
        }
      ]
    },
    {
      "cell_type": "markdown",
      "metadata": {
        "id": "UGyeDb6lzWyi"
      },
      "source": [
        "## Arithmetic and Arithmetic Functions"
      ]
    },
    {
      "cell_type": "markdown",
      "metadata": {
        "id": "Fvr4bJyizdHQ"
      },
      "source": [
        "Using the methods described in the powerpoint, you can do several mathematical functions.\n",
        "\n",
        "Complete these tasks to gain more arithmetic understanding!\n",
        "\n",
        "1.   Create a `float` variable `test_float` and assign it a decimal number.\n",
        "2.   Floor divide this number by `4` and assign it into a variable.\n",
        "3.   Divide this number by `4` and assign it into a variable.\n",
        "4.   Use the `max` function to see which of the two variables are bigger. What are your findings? Share it with the club.\n",
        "5.  Take the variable from Step 3 and use the `round` function to round it to the nearest integer. \n",
        "6.  Use the `min` function to see which of the two variables are smaller. What are your findings? Share it with the club.\n",
        "\n",
        "Below is some example code to help you\n",
        "\n"
      ]
    },
    {
      "cell_type": "code",
      "metadata": {
        "id": "whl-8P_Q072L",
        "colab": {
          "base_uri": "https://localhost:8080/"
        },
        "outputId": "a4bf87b8-1617-492d-f9e4-d2965d6ead5a"
      },
      "source": [
        "print(max(1,2,3))\n",
        "\n",
        "x = 2.5\n",
        "y = (5.5 / 2)\n",
        "z = round(x)\n",
        "\n",
        "print(f\"The min is {min(x, y)}\")\n",
        "print(f\"The max is {max(y, z)}\")\n",
        "\n",
        "test_float = 1.1\n",
        "you = 1.1 // 4\n",
        "youu = max(test_float,you)\n",
        "print(youu)\n",
        "print(you)\n",
        "rounded = round(you)\n",
        "print(rounded)\n",
        "print(you)\n",
        "print(min(rounded,you))"
      ],
      "execution_count": null,
      "outputs": [
        {
          "output_type": "stream",
          "text": [
            "3\n",
            "The min is 2.5\n",
            "The max is 2.75\n",
            "1.1\n",
            "0.0\n",
            "0\n",
            "0.0\n",
            "0\n"
          ],
          "name": "stdout"
        }
      ]
    },
    {
      "cell_type": "markdown",
      "metadata": {
        "id": "ywlsN1lheFm4"
      },
      "source": [
        "Fill in the second part of the `print` statements:"
      ]
    },
    {
      "cell_type": "markdown",
      "metadata": {
        "id": "N4LHLCR9RcW9"
      },
      "source": [
        "### **Intermediate and Advanced Exercises:**\n",
        "1. **Basic Guessing Game**\n",
        " - In this task, you’re going to make a “Guess the Number” game. The computer will think of a random number from 1 to 20, and ask you to guess it. The computer will tell you if each guess is too high or too low. You win if you can guess the number within six tries.\n",
        " - <u> Topics To Apply:</u> **loops, comparison operators**\n",
        "2. **Create Your Own *Mad Libs*!**\n",
        " - *Mad Libs* is a game that allows the user to fill in a story by answering questions that require them to give a part of speech for the story. For example, if a story is talking about a day at the beach, the game might say \"*It is a ____ (adjective) day outside*\" where the user fills in the adjective via user input. Using the stories provided below, create a Mad Libs program by asking the user to fill in the parts of speech to complete the story. The end result might be insanely wacky!\n",
        " - <u>Topics To Apply:</u> **f-strings**, **`input()` statement**\n",
        " - <a href=\"https://www.bloomberg.com/news/articles/2012-04-26/mad-libs-startup-pitch\"><img src=\"https://assets.bwbx.io/images/users/iqjWHBFdfxIU/iSI7Mzhpu39g/v1/-1x-1.jpg\" width=300 height=300></a>\n"
      ]
    },
    {
      "cell_type": "markdown",
      "metadata": {
        "id": "QXKeKQZQRIc8"
      },
      "source": [
        "## END OF SECTION 1"
      ]
    },
    {
      "cell_type": "markdown",
      "metadata": {
        "id": "Y6J9a2b8eFm8"
      },
      "source": [
        "## Boolean Operations\n",
        "\n",
        "- An expression is a combination of objects and operators that computes a value.\n",
        "- Many expressions involve what is known as the **`Boolean` (`bool`)** data type\n",
        " - The Boolean data type is a data type that has only two values: `True` and `False`\n",
        " - Compare this to the `int` type which can represent any integer.\n",
        "- Operations involving **logic**, so-called Boolean operations, take in one or more\n",
        "Boolean objects and return one Boolean object\n",
        "- There are only 3 Boolean operations (`x` and `y` are Boolean; listed here by\n",
        "ascending priority)"
      ]
    },
    {
      "cell_type": "code",
      "metadata": {
        "id": "jLyd_2DkeFm_",
        "colab": {
          "base_uri": "https://localhost:8080/"
        },
        "outputId": "5147b1c8-4013-4d97-ef08-5b4b4cf96f47"
      },
      "source": [
        "print(\"s\" in \"apples\") #me (tahmid) added this line\n",
        "\n",
        "x,y = False, True\n",
        "# True or False\n",
        "print('x or y: ', x or y)\n",
        "# True and False\n",
        "print('x and y: ', x and y)\n",
        "# not True:\n",
        "print('not x: ', not x)"
      ],
      "execution_count": null,
      "outputs": [
        {
          "output_type": "stream",
          "text": [
            "True\n",
            "x or y:  True\n",
            "x and y:  False\n",
            "not x:  True\n"
          ],
          "name": "stdout"
        }
      ]
    },
    {
      "cell_type": "markdown",
      "metadata": {
        "id": "xuWy3Pk9c1z1"
      },
      "source": [
        "<img src=\"https://image.slidesharecdn.com/pythonlecturecolor-170530180420/95/introduction-to-python-for-bioinformatics-83-638.jpg?cb=1496167492\" width=300 height=300>"
      ]
    },
    {
      "cell_type": "markdown",
      "metadata": {
        "id": "G7-ycFCaeFnA"
      },
      "source": [
        "- There are 8 comparison operations in Python\n",
        " - These are commonly used for numeric types\n",
        " - They can also be used for other types, like sequences, where comparisons are done per element.\n",
        "  - The result of a comparison is either `True` or `False` (returns a Boolean type)\n",
        "  - All have the same priority (higher than Boolean)\n",
        "  - Here `x` and `y` are any objects for which the comparison operators are defined:\n",
        "    - `x < y`\n",
        "    - `x <= y`\n",
        "    - `x > y`\n",
        "    - `x >= y`\n",
        "    - `x == y`\n",
        "    - `x != y`\n",
        "    - `is`\n",
        "    + `is not`\n",
        "  - The last two compare object identity and its negation (*not important for now*).\n",
        "  - We can also **chain** comparisons in Python (see below).\n"
      ]
    },
    {
      "cell_type": "code",
      "metadata": {
        "id": "IDYP4qY1eFnB",
        "colab": {
          "base_uri": "https://localhost:8080/"
        },
        "outputId": "74f3ff98-2c12-41b6-e16b-a038e796fe22"
      },
      "source": [
        "2 < 3 < 4 # checks if 2 IS LESS THAN 3 AND if 3 IS LESS THAN 4"
      ],
      "execution_count": null,
      "outputs": [
        {
          "output_type": "execute_result",
          "data": {
            "text/plain": [
              "True"
            ]
          },
          "metadata": {
            "tags": []
          },
          "execution_count": 46
        }
      ]
    },
    {
      "cell_type": "markdown",
      "metadata": {
        "id": "9xKqEIgc24SW"
      },
      "source": [
        "We can also use `bool` in comparisons. For example, we can test whether one value is greater than another and only execute this code in comparisons."
      ]
    },
    {
      "cell_type": "code",
      "metadata": {
        "id": "xHWg9fku3V7X",
        "colab": {
          "base_uri": "https://localhost:8080/"
        },
        "outputId": "d9d8d5d6-a4b3-4eef-f6f8-c2fe9968b6ea"
      },
      "source": [
        "import math\n",
        "\n",
        "n = 25\n",
        "\n",
        "if n > 23:\n",
        "  print(\"n is greater than 23\")\n",
        "else:\n",
        "  print(\"we have the number 23!!!\")\n",
        "\n"
      ],
      "execution_count": null,
      "outputs": [
        {
          "output_type": "stream",
          "text": [
            "n is greater than 23\n"
          ],
          "name": "stdout"
        }
      ]
    },
    {
      "cell_type": "code",
      "metadata": {
        "id": "fY4HWIPE32CG",
        "colab": {
          "base_uri": "https://localhost:8080/"
        },
        "outputId": "10223797-6f88-4a5a-f9dc-b62004e38fe0"
      },
      "source": [
        "theta = 4 * math.pi # math.pi = π\n",
        "\n",
        "if theta > (2 * math.pi):\n",
        "  print(\"we have a full circle made\")\n",
        "else:\n",
        "  print(\"Only an angle is formed.\")"
      ],
      "execution_count": null,
      "outputs": [
        {
          "output_type": "stream",
          "text": [
            "we have a full circle made\n"
          ],
          "name": "stdout"
        }
      ]
    },
    {
      "cell_type": "code",
      "metadata": {
        "id": "NQo9SlOU32lj",
        "colab": {
          "base_uri": "https://localhost:8080/"
        },
        "outputId": "36247da3-ef54-490e-c52f-6091724006ff"
      },
      "source": [
        "if n != 5**2: # use comparisons with math operations\n",
        "  print(\"n is not 5 squared\")\n",
        "else:\n",
        "  print(\"n is 25!!!\")"
      ],
      "execution_count": null,
      "outputs": [
        {
          "output_type": "stream",
          "text": [
            "n is 25!!!\n"
          ],
          "name": "stdout"
        }
      ]
    },
    {
      "cell_type": "code",
      "metadata": {
        "id": "oM-CLkd94ASC",
        "colab": {
          "base_uri": "https://localhost:8080/"
        },
        "outputId": "4978ad87-fd62-4f1d-b805-6aa4e20089ca"
      },
      "source": [
        "counter = 0\n",
        "\n",
        "while counter < 10:\n",
        "  print(f\"counter is now {counter}\")\n",
        "  counter += 2 # Equal to counter = counter + 1\n"
      ],
      "execution_count": null,
      "outputs": [
        {
          "output_type": "stream",
          "text": [
            "counter is now 0\n",
            "counter is now 2\n",
            "counter is now 4\n",
            "counter is now 6\n",
            "counter is now 8\n"
          ],
          "name": "stdout"
        }
      ]
    },
    {
      "cell_type": "markdown",
      "metadata": {
        "id": "2fX8u5N54SI3"
      },
      "source": [
        "**CREATE YOUR OWN COMPARISONS!**\n",
        "\n",
        "\n",
        "\n",
        "1.   Create a `while` loop to loop through a counter variable. This while loop should check when the counter variable reaches 169 when it increases by 10. You may need to use both a `while` and an `if` statement. \n",
        "2.   Let's do some constant computation! If you executed the code cell with `import math` in it, we can compare the constants *π* and *e*. Use an `if` statement to check whether 4*e* is greater than 3*π*. Print your result.\n",
        "\n",
        "The constant *π* can be retrieved with `math.pi` and the constant *e* can be retreived with `math.e`.\n",
        "\n"
      ]
    },
    {
      "cell_type": "code",
      "metadata": {
        "id": "vTbNjfxR5sUU",
        "colab": {
          "base_uri": "https://localhost:8080/"
        },
        "outputId": "9c50ceb1-85d4-44c1-c4f9-fe8af955daee"
      },
      "source": [
        "if 4 * math.e > 3 * math.pi:\n",
        "  print(\"yep\")\n",
        "else:\n",
        "  print(\"nope\")"
      ],
      "execution_count": null,
      "outputs": [
        {
          "output_type": "stream",
          "text": [
            "yep\n"
          ],
          "name": "stdout"
        }
      ]
    },
    {
      "cell_type": "markdown",
      "metadata": {
        "id": "AxOKb4SFeFnC"
      },
      "source": [
        "## Strings\n",
        "Strings are immutable sequences of characters\n",
        "- String literals are enclosed in single (`’hi’`), double(`\"hi\"`), or triple quotes\n",
        "(`\"\"\"Computer says 'No.' \"\"\"`)\n",
        "- Examples of common sequence operations on strings follow below.\n"
      ]
    },
    {
      "cell_type": "markdown",
      "metadata": {
        "id": "_K6vISz9WEav"
      },
      "source": [
        "### Example"
      ]
    },
    {
      "cell_type": "code",
      "metadata": {
        "id": "PcwGwNOkWFvO",
        "colab": {
          "base_uri": "https://localhost:8080/"
        },
        "outputId": "b00ee433-6e87-4b83-d542-c74206e4be96"
      },
      "source": [
        "text = \"Lorem ipsum\"\n",
        "\n",
        "print(f\"The first character of the text is {text[0]}\")\n",
        "print(f\"The last character of the text is {text[-1]}\")\n",
        "print()\n",
        "print(\"Here, we slice the string by character index!\")\n",
        "print(f\"Look at this slice from first character to the fourth: '{text[0:5]}'\")\n",
        "print()\n",
        "print(f\"We even reversed the string: {text[::-1]}\")"
      ],
      "execution_count": null,
      "outputs": [
        {
          "output_type": "stream",
          "text": [
            "The first character of the text is L\n",
            "The last character of the text is m\n",
            "\n",
            "Here, we slice the string by character index!\n",
            "Look at this slice from first character to the fourth: 'Lorem'\n",
            "\n",
            "We even reversed the string: muspi meroL\n"
          ],
          "name": "stdout"
        }
      ]
    },
    {
      "cell_type": "markdown",
      "metadata": {
        "id": "QtaYO9cPW6z3"
      },
      "source": [
        "Try out some of the operation on the items below"
      ]
    },
    {
      "cell_type": "code",
      "metadata": {
        "id": "37fY04D9eFnC",
        "colab": {
          "base_uri": "https://localhost:8080/"
        },
        "outputId": "1b476d67-5a80-4d35-c4fe-eb74e5841670"
      },
      "source": [
        "S = \"CNN course\"\n",
        "# Print the length of string S\n",
        "print('Length of string S:', len(S),'characters')\n",
        "# Print the first element of S\n",
        "print('The first element of S is:',)\n",
        "# Print the first 6 elements of S\n",
        "print('first 6 elements of S',) # slicing\n",
        "# Print the last element of string S\n",
        "print('The last element of the string is: ',)\n",
        "# Check whether character \"y\" is in S\n",
        "print('Is character \"y\" in S?:',) # membership\n",
        "# Check whether character \"z\" is NOT in S\n",
        "print('Is character z not in S?:',)"
      ],
      "execution_count": null,
      "outputs": [
        {
          "output_type": "stream",
          "text": [
            "Length of string S: 10 characters\n",
            "The first element of S is:\n",
            "first 6 elements of S\n",
            "The last element of the string is: \n",
            "Is character \"y\" in S?:\n",
            "Is character z not in S?:\n"
          ],
          "name": "stdout"
        }
      ]
    },
    {
      "cell_type": "markdown",
      "metadata": {
        "id": "-c-He1h4W_cr"
      },
      "source": [
        "### Examples with Polymorphism"
      ]
    },
    {
      "cell_type": "markdown",
      "metadata": {
        "id": "8YjEcVWFeFnE"
      },
      "source": [
        "**Polymorphism** is the idea that the meaning of an operation, such as `+` and `*`,\n",
        "depends on the objects being operated on\n",
        "- This is like in math: each operation has to be defined separately for each type of\n",
        "object\n",
        "- Here `+` is referred to as “concatenation” and `*` as “repetition”"
      ]
    },
    {
      "cell_type": "code",
      "metadata": {
        "id": "rkS-ch97eFnE",
        "colab": {
          "base_uri": "https://localhost:8080/"
        },
        "outputId": "dd76dfdc-75dd-4224-d49b-b2a8426c3a39"
      },
      "source": [
        "S = \"CNN course \"\n",
        "# What happens if you use * for digits?\n",
        "print()\n",
        "# What about * for strings?\n",
        "print(S * 3)\n",
        "# Now try +\n",
        "print(S + \"add\")\n",
        "print()"
      ],
      "execution_count": null,
      "outputs": [
        {
          "output_type": "stream",
          "text": [
            "\n",
            "CNN course CNN course CNN course \n",
            "CNN course add\n",
            "\n"
          ],
          "name": "stdout"
        }
      ]
    },
    {
      "cell_type": "code",
      "metadata": {
        "id": "CBmE_ywreFnF",
        "colab": {
          "base_uri": "https://localhost:8080/",
          "height": 215
        },
        "outputId": "ccfdfc4e-46f9-49cb-f84b-0c505a522502"
      },
      "source": [
        "# Why does this work?\n",
        "print (\" eight is \" + str (8)) # string object + string object\n",
        "# and this doesn't?\n",
        "print (\" eight is \" + 8) # string object + integer object (!)"
      ],
      "execution_count": null,
      "outputs": [
        {
          "output_type": "stream",
          "text": [
            " eight is 8\n"
          ],
          "name": "stdout"
        },
        {
          "output_type": "error",
          "ename": "TypeError",
          "evalue": "ignored",
          "traceback": [
            "\u001b[0;31m---------------------------------------------------------------------------\u001b[0m",
            "\u001b[0;31mTypeError\u001b[0m                                 Traceback (most recent call last)",
            "\u001b[0;32m<ipython-input-39-e3789fc3a7d9>\u001b[0m in \u001b[0;36m<module>\u001b[0;34m()\u001b[0m\n\u001b[1;32m      2\u001b[0m \u001b[0mprint\u001b[0m \u001b[0;34m(\u001b[0m\u001b[0;34m\" eight is \"\u001b[0m \u001b[0;34m+\u001b[0m \u001b[0mstr\u001b[0m \u001b[0;34m(\u001b[0m\u001b[0;36m8\u001b[0m\u001b[0;34m)\u001b[0m\u001b[0;34m)\u001b[0m \u001b[0;31m# string object + string object\u001b[0m\u001b[0;34m\u001b[0m\u001b[0;34m\u001b[0m\u001b[0m\n\u001b[1;32m      3\u001b[0m \u001b[0;31m# and this doesn't?\u001b[0m\u001b[0;34m\u001b[0m\u001b[0;34m\u001b[0m\u001b[0;34m\u001b[0m\u001b[0m\n\u001b[0;32m----> 4\u001b[0;31m \u001b[0mprint\u001b[0m \u001b[0;34m(\u001b[0m\u001b[0;34m\" eight is \"\u001b[0m \u001b[0;34m+\u001b[0m \u001b[0;36m8\u001b[0m\u001b[0;34m)\u001b[0m \u001b[0;31m# string object + integer object (!)\u001b[0m\u001b[0;34m\u001b[0m\u001b[0;34m\u001b[0m\u001b[0m\n\u001b[0m",
            "\u001b[0;31mTypeError\u001b[0m: must be str, not int"
          ]
        }
      ]
    },
    {
      "cell_type": "code",
      "metadata": {
        "colab": {
          "base_uri": "https://localhost:8080/"
        },
        "id": "NbahMDNid-FT",
        "outputId": "6f037409-cfdd-4e39-f523-5b9c27482628"
      },
      "source": [
        "# What does this do? - Write a comment that says what this does. DO NOT RUN THE CELL!\n",
        "print(int('88') + 32 * int('1') + 22) # 142\n",
        "\n",
        "# Do the same for the statement below.\n",
        "print( float('3.14') + 12 * 32 + 22) # 409.14"
      ],
      "execution_count": null,
      "outputs": [
        {
          "output_type": "stream",
          "text": [
            "142\n",
            "409.14\n"
          ],
          "name": "stdout"
        }
      ]
    },
    {
      "cell_type": "markdown",
      "metadata": {
        "id": "o3QDAasqeFnI"
      },
      "source": [
        "- The above operations on strings were really *generic sequence operations*\n",
        "  - **Strings are a type of sequence** and support all sequence operations.\n",
        "  - In addition, strings have operations all their own, which are available as *string methods*. \n",
        "   - What is a sequence? We will find out when we discuss lists in the next section of the notebook.\n",
        "  - Methods are functions attached to objects and they are triggered with a call expression (using the dot operator)."
      ]
    },
    {
      "cell_type": "code",
      "metadata": {
        "id": "kJn-xiKZeFnI"
      },
      "source": [
        "S = 'Data Science Is Fun'"
      ],
      "execution_count": null,
      "outputs": []
    },
    {
      "cell_type": "code",
      "metadata": {
        "colab": {
          "base_uri": "https://localhost:8080/"
        },
        "id": "kops2uRBfk7d",
        "outputId": "744717ee-0337-4350-9c81-28d9fe691629"
      },
      "source": [
        "dir(S)"
      ],
      "execution_count": null,
      "outputs": [
        {
          "output_type": "execute_result",
          "data": {
            "text/plain": [
              "['__add__',\n",
              " '__class__',\n",
              " '__contains__',\n",
              " '__delattr__',\n",
              " '__dir__',\n",
              " '__doc__',\n",
              " '__eq__',\n",
              " '__format__',\n",
              " '__ge__',\n",
              " '__getattribute__',\n",
              " '__getitem__',\n",
              " '__getnewargs__',\n",
              " '__gt__',\n",
              " '__hash__',\n",
              " '__init__',\n",
              " '__init_subclass__',\n",
              " '__iter__',\n",
              " '__le__',\n",
              " '__len__',\n",
              " '__lt__',\n",
              " '__mod__',\n",
              " '__mul__',\n",
              " '__ne__',\n",
              " '__new__',\n",
              " '__reduce__',\n",
              " '__reduce_ex__',\n",
              " '__repr__',\n",
              " '__rmod__',\n",
              " '__rmul__',\n",
              " '__setattr__',\n",
              " '__sizeof__',\n",
              " '__str__',\n",
              " '__subclasshook__',\n",
              " 'capitalize',\n",
              " 'casefold',\n",
              " 'center',\n",
              " 'count',\n",
              " 'encode',\n",
              " 'endswith',\n",
              " 'expandtabs',\n",
              " 'find',\n",
              " 'format',\n",
              " 'format_map',\n",
              " 'index',\n",
              " 'isalnum',\n",
              " 'isalpha',\n",
              " 'isdecimal',\n",
              " 'isdigit',\n",
              " 'isidentifier',\n",
              " 'islower',\n",
              " 'isnumeric',\n",
              " 'isprintable',\n",
              " 'isspace',\n",
              " 'istitle',\n",
              " 'isupper',\n",
              " 'join',\n",
              " 'ljust',\n",
              " 'lower',\n",
              " 'lstrip',\n",
              " 'maketrans',\n",
              " 'partition',\n",
              " 'replace',\n",
              " 'rfind',\n",
              " 'rindex',\n",
              " 'rjust',\n",
              " 'rpartition',\n",
              " 'rsplit',\n",
              " 'rstrip',\n",
              " 'split',\n",
              " 'splitlines',\n",
              " 'startswith',\n",
              " 'strip',\n",
              " 'swapcase',\n",
              " 'title',\n",
              " 'translate',\n",
              " 'upper',\n",
              " 'zfill']"
            ]
          },
          "metadata": {
            "tags": []
          },
          "execution_count": 44
        }
      ]
    },
    {
      "cell_type": "markdown",
      "metadata": {
        "id": "DvrD6Yp4eFnJ"
      },
      "source": [
        "Use the `dir` function to find an attribute for string S that:\n",
        "  1. Turns all letters in `S` to capital letters\n",
        "  2. Turns all letters in `S` to lower case letters\n",
        "  3. Splits the string by spaces\n",
        "\n",
        "If you need help, check the [Python documentation](https://docs.python.org/3/library/stdtypes.html#text-sequence-type-str) to see what methods are available for the object you are using. You can also use the `help()` on an object to see what it does."
      ]
    },
    {
      "cell_type": "code",
      "metadata": {
        "id": "O7Q_VTpGeFnK"
      },
      "source": [
        "print('1.',)\n",
        "print('2.',)\n",
        "print('3. ',)"
      ],
      "execution_count": null,
      "outputs": []
    },
    {
      "cell_type": "markdown",
      "metadata": {
        "id": "a0O8N71BeFnL"
      },
      "source": [
        "- **Lists** are mutable sequences of objects of any type typically used to store\n",
        "homogeneous items\n",
        "  - Lists are a type of sequence\n",
        "  - Strings vs. lists: Sequences of **characters** vs. sequences of **any objects**\n",
        "  - Strings vs. lists: Strings are **immutable** whereas lists are **mutable**\n",
        "  - It is common in practice for lists to hold objects of one type only but in Python, they can all types of objects.\n",
        "\n",
        "**This means that they do all the operations that strings do with indexing!**"
      ]
    },
    {
      "cell_type": "code",
      "metadata": {
        "id": "es0SUPQaeFnL",
        "colab": {
          "base_uri": "https://localhost:8080/"
        },
        "outputId": "97049799-24cc-42a6-98fc-9707a5bbece5"
      },
      "source": [
        "names = [\" Peter \", \" Samantha \", \" John \", \" Mary \", \" Karen \"]\n",
        "# Print the first name in the list:\n",
        "print(names[0])\n",
        "# Print the first two names in the list:\n",
        "print(names[0:2])\n",
        "# Search for the attributes in names to add the name \"Tom\" to the list:\n",
        "names.append(\"Tom\")\n",
        "print(names)\n",
        "# Use + to add the name Jim to the list\n",
        "\n",
        "print(names)\n",
        "# Search for attributes to reverse the names order in the list\n",
        "\n",
        "print(names) # reverses the list in place ( common mutable sequence operation )\n",
        "# Search for attributes to sort the names in alphabetical order:\n",
        "\n",
        "print(names)"
      ],
      "execution_count": null,
      "outputs": [
        {
          "output_type": "stream",
          "text": [
            " Peter \n",
            "[' Peter ', ' Samantha ']\n",
            "[' Peter ', ' Samantha ', ' John ', ' Mary ', ' Karen ', 'Tom']\n",
            "[' Peter ', ' Samantha ', ' John ', ' Mary ', ' Karen ', 'Tom']\n",
            "[' Peter ', ' Samantha ', ' John ', ' Mary ', ' Karen ', 'Tom']\n",
            "[' Peter ', ' Samantha ', ' John ', ' Mary ', ' Karen ', 'Tom']\n"
          ],
          "name": "stdout"
        }
      ]
    },
    {
      "cell_type": "markdown",
      "metadata": {
        "id": "Oeag1IjZeFmw"
      },
      "source": [
        "## Modules  "
      ]
    },
    {
      "cell_type": "markdown",
      "metadata": {
        "id": "SjiVdV7KeFmx"
      },
      "source": [
        "Python modules are libraries of code\n",
        "- They are imported using the `import` statement\n",
        "- Python comes with several modules but you can also write your own modules\n",
        " - Very commonly used to go beyond built-in functions and operations to do something more complex.\n",
        "- We can import the `math` module for this purpose\n",
        "- Print the numbers $\\pi$, $e$, $\\sqrt{2}$ and $\\sin(\\frac{\\pi}{2})$ using functions from the `math` module by filling in the `print()` statements."
      ]
    },
    {
      "cell_type": "code",
      "metadata": {
        "id": "l2R-MN7_eFmx",
        "colab": {
          "base_uri": "https://localhost:8080/"
        },
        "outputId": "067d44d5-1da3-4776-964c-6daf295393c9"
      },
      "source": [
        "import math\n",
        "print(f'pi: {math.pi}')\n",
        "print(f'e: {math.e}',)\n",
        "print('square root of 4:',)\n",
        "print('sin(pi/2):',)"
      ],
      "execution_count": null,
      "outputs": [
        {
          "output_type": "stream",
          "text": [
            "pi: 3.141592653589793\n",
            "e: 2.718281828459045\n",
            "square root of 4:\n",
            "sin(pi/2):\n"
          ],
          "name": "stdout"
        }
      ]
    },
    {
      "cell_type": "markdown",
      "metadata": {
        "id": "F_vCTrQueFnM"
      },
      "source": [
        "## Ranges\n",
        "- Ranges are immutable sequences of integers commonly used in for loops\n",
        "- They require a starting value (default: 0), a stopping value and a step length.\n",
        "- A negative step length is possible but non-integer steps are not.\n",
        "- Note that `range` objects are different from `list` objects\n",
        "- Although could use a `list` in for loops, `range` is much more memory efficient as it\n",
        "stores only start, stop, and step values, calculating individual items as needed."
      ]
    },
    {
      "cell_type": "code",
      "metadata": {
        "id": "bMV-Lj06eFnM",
        "colab": {
          "base_uri": "https://localhost:8080/"
        },
        "outputId": "6d48cb0a-713a-49e2-e4b2-80e0f317cbfd"
      },
      "source": [
        "# Here we test the functions of the range() function. It can take three arguments as shown below.\n",
        "print(list(range(5))) # stop\n",
        "print(list(range(1 ,6))) # start and stop\n",
        "print(list(range(0 ,11 ,2))) # start and stop and step"
      ],
      "execution_count": null,
      "outputs": [
        {
          "output_type": "stream",
          "text": [
            "[0, 1, 2, 3, 4]\n",
            "[1, 2, 3, 4, 5]\n",
            "[0, 2, 4, 6, 8, 10]\n"
          ],
          "name": "stdout"
        }
      ]
    },
    {
      "cell_type": "markdown",
      "metadata": {
        "id": "1c1hSiiieFnN"
      },
      "source": [
        "- A `for` loop is used for iterating over sequences, first we'll use a `for` loop to print the elements in the interval from 0 to 5 inclusive in step intervals of 2."
      ]
    },
    {
      "cell_type": "code",
      "metadata": {
        "id": "MzyGVFgqeFnN",
        "colab": {
          "base_uri": "https://localhost:8080/"
        },
        "outputId": "6247b2e3-a912-4547-d843-7dde12e8aee5"
      },
      "source": [
        "# We can iterate over the list generated by the range function shown below\n",
        "\n",
        "for i in range(0,5,2):\n",
        "    print(i)"
      ],
      "execution_count": null,
      "outputs": [
        {
          "output_type": "stream",
          "text": [
            "0\n",
            "2\n",
            "4\n"
          ],
          "name": "stdout"
        }
      ]
    },
    {
      "cell_type": "markdown",
      "metadata": {
        "id": "3NSCXykyeFnO"
      },
      "source": [
        "- Without changing the syntax, change the `range` parameters to print the elements in the interval from 20 to 1 inclusive in step intervals of 2 (hint: decreasing interval = negative step)"
      ]
    },
    {
      "cell_type": "code",
      "metadata": {
        "id": "F-EwFIwMeFnQ"
      },
      "source": [
        ""
      ],
      "execution_count": null,
      "outputs": []
    },
    {
      "cell_type": "markdown",
      "metadata": {
        "id": "juIt4uIZeFnS"
      },
      "source": [
        "- We can also iterate through the elements of a list directly:"
      ]
    },
    {
      "cell_type": "code",
      "metadata": {
        "id": "Kl9KRNH-eFnT",
        "colab": {
          "base_uri": "https://localhost:8080/"
        },
        "outputId": "c52d9104-7b54-4888-ddfa-2c6f07500c69"
      },
      "source": [
        "names = ['Alpha', 'Beta', 'Charlie', 'Omega']\n",
        "\n",
        "for nm in names:\n",
        "    print(nm + str(5))"
      ],
      "execution_count": null,
      "outputs": [
        {
          "output_type": "stream",
          "text": [
            "Alpha5\n",
            "Beta5\n",
            "Charlie5\n",
            "Omega5\n"
          ],
          "name": "stdout"
        }
      ]
    },
    {
      "cell_type": "markdown",
      "metadata": {
        "id": "RQoHhHk9eFmh"
      },
      "source": [
        "## More Practice With Objects\n",
        "\n",
        "- Every piece of data stored in a Python program is an object\n",
        "- Each object has a type, value, and identity\n",
        "- For example: `str` (type); `\"hello\"` (value); `2915232` (identity)\n",
        "- An attribute is a name that is attached to a specific object and has a dot between the attribute and the object: `object.attribute`.\n",
        "- Some attributes are callable (functions) and others are noncallable (variables)\n",
        "- **Objects are characterized by data attributes and methods**\n",
        "- A data attribute is a value attached to an object\n",
        "- **A method is a function attached to an object that performs some operation\n",
        "on the object**.\n",
        "- Object type determines which operations the object supports, i.e., which\n",
        "operations you can perform on it."
      ]
    },
    {
      "cell_type": "markdown",
      "metadata": {
        "id": "C-dyOITReFmh"
      },
      "source": [
        "- To find out the type of an object:"
      ]
    },
    {
      "cell_type": "code",
      "metadata": {
        "id": "2dn2O8U9eFmi",
        "colab": {
          "base_uri": "https://localhost:8080/",
          "height": 34
        },
        "outputId": "1ff6471c-eff6-4260-cdf0-463316ae96a9"
      },
      "source": [
        "name = \" Amy Poehler \"\n",
        "type(name)"
      ],
      "execution_count": null,
      "outputs": [
        {
          "output_type": "execute_result",
          "data": {
            "text/plain": [
              "str"
            ]
          },
          "metadata": {
            "tags": []
          },
          "execution_count": 1
        }
      ]
    },
    {
      "cell_type": "markdown",
      "metadata": {
        "id": "cODrDhRseFmj"
      },
      "source": [
        "- To find out a list of all attributes (object.attribute):"
      ]
    },
    {
      "cell_type": "code",
      "metadata": {
        "scrolled": true,
        "id": "emiUhlireFmj",
        "colab": {
          "base_uri": "https://localhost:8080/",
          "height": 1000
        },
        "outputId": "1360742e-1313-4f0f-c02e-1995692284d2"
      },
      "source": [
        "dir(name)"
      ],
      "execution_count": null,
      "outputs": [
        {
          "output_type": "execute_result",
          "data": {
            "text/plain": [
              "['__add__',\n",
              " '__class__',\n",
              " '__contains__',\n",
              " '__delattr__',\n",
              " '__dir__',\n",
              " '__doc__',\n",
              " '__eq__',\n",
              " '__format__',\n",
              " '__ge__',\n",
              " '__getattribute__',\n",
              " '__getitem__',\n",
              " '__getnewargs__',\n",
              " '__gt__',\n",
              " '__hash__',\n",
              " '__init__',\n",
              " '__init_subclass__',\n",
              " '__iter__',\n",
              " '__le__',\n",
              " '__len__',\n",
              " '__lt__',\n",
              " '__mod__',\n",
              " '__mul__',\n",
              " '__ne__',\n",
              " '__new__',\n",
              " '__reduce__',\n",
              " '__reduce_ex__',\n",
              " '__repr__',\n",
              " '__rmod__',\n",
              " '__rmul__',\n",
              " '__setattr__',\n",
              " '__sizeof__',\n",
              " '__str__',\n",
              " '__subclasshook__',\n",
              " 'capitalize',\n",
              " 'casefold',\n",
              " 'center',\n",
              " 'count',\n",
              " 'encode',\n",
              " 'endswith',\n",
              " 'expandtabs',\n",
              " 'find',\n",
              " 'format',\n",
              " 'format_map',\n",
              " 'index',\n",
              " 'isalnum',\n",
              " 'isalpha',\n",
              " 'isdecimal',\n",
              " 'isdigit',\n",
              " 'isidentifier',\n",
              " 'islower',\n",
              " 'isnumeric',\n",
              " 'isprintable',\n",
              " 'isspace',\n",
              " 'istitle',\n",
              " 'isupper',\n",
              " 'join',\n",
              " 'ljust',\n",
              " 'lower',\n",
              " 'lstrip',\n",
              " 'maketrans',\n",
              " 'partition',\n",
              " 'replace',\n",
              " 'rfind',\n",
              " 'rindex',\n",
              " 'rjust',\n",
              " 'rpartition',\n",
              " 'rsplit',\n",
              " 'rstrip',\n",
              " 'split',\n",
              " 'splitlines',\n",
              " 'startswith',\n",
              " 'strip',\n",
              " 'swapcase',\n",
              " 'title',\n",
              " 'translate',\n",
              " 'upper',\n",
              " 'zfill']"
            ]
          },
          "metadata": {
            "tags": []
          },
          "execution_count": 2
        }
      ]
    },
    {
      "cell_type": "markdown",
      "metadata": {
        "id": "IoTFPQ66eFmk"
      },
      "source": [
        "- Note that some of the attributes are callable (methods)\n",
        "- To find out what different methods do, use the `help()` method on either the methods or their attributes."
      ]
    },
    {
      "cell_type": "code",
      "metadata": {
        "id": "jC_xJm3OeFmk",
        "colab": {
          "base_uri": "https://localhost:8080/",
          "height": 136
        },
        "outputId": "0292176e-7a06-4da0-c26c-a82b78c1ae1a"
      },
      "source": [
        "help ( name.lower ) # documentation on the string function str.lower()."
      ],
      "execution_count": null,
      "outputs": [
        {
          "output_type": "stream",
          "text": [
            "Help on built-in function lower:\n",
            "\n",
            "lower(...) method of builtins.str instance\n",
            "    S.lower() -> str\n",
            "    \n",
            "    Return a copy of the string S converted to lowercase.\n",
            "\n"
          ],
          "name": "stdout"
        }
      ]
    },
    {
      "cell_type": "code",
      "metadata": {
        "id": "QM7RnfYweFmm",
        "colab": {
          "base_uri": "https://localhost:8080/",
          "height": 85
        },
        "outputId": "a0dbc0ca-4dcd-4abc-ab0b-7ee7f7db35a4"
      },
      "source": [
        "help ( name.lower ()) # documentation on the lowercase string (python has no idea what you mean)"
      ],
      "execution_count": null,
      "outputs": [
        {
          "output_type": "stream",
          "text": [
            "No Python documentation found for 'amy poehler'.\n",
            "Use help() to get the interactive help utility.\n",
            "Use help(str) for help on the str class.\n",
            "\n"
          ],
          "name": "stdout"
        }
      ]
    },
    {
      "cell_type": "markdown",
      "metadata": {
        "id": "3BF_9svJeFmo"
      },
      "source": [
        "Or just try it out!"
      ]
    },
    {
      "cell_type": "code",
      "metadata": {
        "id": "EpkDKH0CeFmo",
        "colab": {
          "base_uri": "https://localhost:8080/",
          "height": 34
        },
        "outputId": "6c126a54-17c4-4d9a-f3e7-bacaa73482b5"
      },
      "source": [
        "name.lower()"
      ],
      "execution_count": null,
      "outputs": [
        {
          "output_type": "execute_result",
          "data": {
            "text/plain": [
              "' amy poehler '"
            ]
          },
          "metadata": {
            "tags": []
          },
          "execution_count": 5
        }
      ]
    },
    {
      "cell_type": "code",
      "metadata": {
        "id": "6ytJbm9PeFmp"
      },
      "source": [
        "# Lets import the numpy library which we'll call np locally to make syntax shorter\n",
        "import numpy as np"
      ],
      "execution_count": null,
      "outputs": []
    },
    {
      "cell_type": "markdown",
      "metadata": {
        "id": "ViN2S3CseFmr"
      },
      "source": [
        "Turn `my_list` into a numpy array called `a` and create a new `numpy` array called `b` with integers 2, 6, 34 and 98."
      ]
    },
    {
      "cell_type": "code",
      "metadata": {
        "id": "zesaB3tHeFms"
      },
      "source": [
        "my_list = []\n",
        "\n",
        "a = np.array(my_list)\n",
        "\n",
        "# Follow the syntax from above\n",
        "b = []"
      ],
      "execution_count": null,
      "outputs": []
    },
    {
      "cell_type": "code",
      "metadata": {
        "id": "LTwkaK_LeFmt"
      },
      "source": [
        "# Print the mean of each array and its shape\n",
        "# TO SOLVE THIS, LOOK AT THE NUMPY DOCUMENTATION AND THE DIR() FUNCTION\n"
      ],
      "execution_count": null,
      "outputs": []
    },
    {
      "cell_type": "code",
      "metadata": {
        "id": "2zjkZnq2eFmv",
        "colab": {
          "base_uri": "https://localhost:8080/"
        },
        "outputId": "2e2f85bd-9d18-441d-e2d8-2471470c7978"
      },
      "source": [
        "# check whether the max integer of x is larger than the max integer of y.\n",
        "a = np.array([44, 3, 4])\n",
        "b = np.array([4, 5, 99])"
      ],
      "execution_count": null,
      "outputs": [
        {
          "output_type": "execute_result",
          "data": {
            "text/plain": [
              "4"
            ]
          },
          "metadata": {
            "tags": []
          },
          "execution_count": 18
        }
      ]
    },
    {
      "cell_type": "markdown",
      "metadata": {
        "id": "9frGMrR4iZPB"
      },
      "source": [
        "### **Intermediate and Advanced Exercises:**\n",
        "1. **Trial Division**\n",
        " - Solve the *Day 25* challenge of the *30 Days of Code* challenges found [here](https://www.hackerrank.com/challenges/30-running-time-and-complexity/problem).\n",
        " - <u> Topics To Apply:</u> **loops, modulo, factor math**\n",
        "2. **Binary Search**\n",
        " - Implement the **binary search algorithm** as described by Michael. If you reach this point, let Michael know so he can explain this algorithm to you.\n",
        " - <u>Topics To Apply:</u> **loops, algorithmic analysis**"
      ]
    },
    {
      "cell_type": "markdown",
      "metadata": {
        "id": "vjiZd29niKTi"
      },
      "source": [
        "## END OF SECTION 2"
      ]
    },
    {
      "cell_type": "markdown",
      "metadata": {
        "id": "Mum5e_hrfmnH"
      },
      "source": [
        "## Lists"
      ]
    },
    {
      "cell_type": "markdown",
      "metadata": {
        "id": "I-wBoD5meFmN"
      },
      "source": [
        "![Lists in Python](https://cdn.programiz.com/sites/tutorial2program/files/python-list-index.png)We'll now explore playing with a few simple objects, a crucial skill in data science is knowing how to search for the right commands. \n",
        "\n",
        "Try to solve the following tasks by searching the required code: \n",
        "\n",
        "- Lists can be defined as a collection of items within `[]`\n",
        "- Create a list called my_list containing numbers 2, 32, 53 and 8"
      ]
    },
    {
      "cell_type": "code",
      "metadata": {
        "id": "dlqGnXrneFmP"
      },
      "source": [
        "my_list = [2,32,53,8]"
      ],
      "execution_count": null,
      "outputs": []
    },
    {
      "cell_type": "markdown",
      "metadata": {
        "id": "KMwdgFAseFmS"
      },
      "source": [
        "- Return the largest item from my_list"
      ]
    },
    {
      "cell_type": "code",
      "metadata": {
        "id": "RgYDoqFEeFmT",
        "colab": {
          "base_uri": "https://localhost:8080/"
        },
        "outputId": "98a42a4b-12e7-407b-b142-e57c395dd71b"
      },
      "source": [
        "max(my_list)"
      ],
      "execution_count": null,
      "outputs": [
        {
          "output_type": "execute_result",
          "data": {
            "text/plain": [
              "53"
            ]
          },
          "metadata": {
            "tags": []
          },
          "execution_count": 71
        }
      ]
    },
    {
      "cell_type": "markdown",
      "metadata": {
        "id": "zavY3Ax8eFmV"
      },
      "source": [
        "- Divide the largest number by 3 and round it to 2 digits after the decimal point"
      ]
    },
    {
      "cell_type": "code",
      "metadata": {
        "id": "7eNK3OqyeFmY",
        "colab": {
          "base_uri": "https://localhost:8080/"
        },
        "outputId": "213baa1e-2a81-4527-e5c8-7566b8830aa1"
      },
      "source": [
        "round(max(my_list)/3)"
      ],
      "execution_count": null,
      "outputs": [
        {
          "output_type": "execute_result",
          "data": {
            "text/plain": [
              "18"
            ]
          },
          "metadata": {
            "tags": []
          },
          "execution_count": 72
        }
      ]
    },
    {
      "cell_type": "markdown",
      "metadata": {
        "id": "5rVGyLGeeFmb"
      },
      "source": [
        "- Now round it to the nearest integer using a different command than above"
      ]
    },
    {
      "cell_type": "code",
      "metadata": {
        "id": "WbJA0dnQeFmd",
        "colab": {
          "base_uri": "https://localhost:8080/"
        },
        "outputId": "4cba29cc-ac40-48d4-eeb0-4e2a13ac4ab9"
      },
      "source": [
        "max(my_list)//3"
      ],
      "execution_count": null,
      "outputs": [
        {
          "output_type": "execute_result",
          "data": {
            "text/plain": [
              "17"
            ]
          },
          "metadata": {
            "tags": []
          },
          "execution_count": 64
        }
      ]
    },
    {
      "cell_type": "markdown",
      "metadata": {
        "id": "QqEHsvIneFmf"
      },
      "source": [
        "- Now sort the integers in my_list in ascending order"
      ]
    },
    {
      "cell_type": "code",
      "metadata": {
        "id": "TfgMaX0HeFmg",
        "colab": {
          "base_uri": "https://localhost:8080/"
        },
        "outputId": "23fd526a-0645-4637-9551-f111a1a89de8"
      },
      "source": [
        "print(my_list.sort())"
      ],
      "execution_count": null,
      "outputs": [
        {
          "output_type": "stream",
          "text": [
            "None\n"
          ],
          "name": "stdout"
        }
      ]
    },
    {
      "cell_type": "markdown",
      "metadata": {
        "id": "V6ivLiVUeFm6"
      },
      "source": [
        "## Sampling \n",
        "\n",
        "- `random` is a useful module when dealing with simple settings that require random\n",
        "sampling of a sequence of objects\n",
        "- This is done via the `random.sample()` method with a list.\n",
        "- By specifying a parameter `k`, we can specify how many items we want to sample."
      ]
    },
    {
      "cell_type": "code",
      "metadata": {
        "id": "WSWdn6_KeFm6",
        "colab": {
          "base_uri": "https://localhost:8080/"
        },
        "outputId": "fb866b07-2ae7-4c16-c453-8c5fe49899d2"
      },
      "source": [
        "import random\n",
        "help(random.random)"
      ],
      "execution_count": null,
      "outputs": [
        {
          "output_type": "stream",
          "text": [
            "Help on built-in function random:\n",
            "\n",
            "random(...) method of random.Random instance\n",
            "    random() -> x in the interval [0, 1).\n",
            "\n"
          ],
          "name": "stdout"
        }
      ]
    },
    {
      "cell_type": "code",
      "metadata": {
        "id": "shwNobRTeFm7",
        "colab": {
          "base_uri": "https://localhost:8080/"
        },
        "outputId": "9fd2da7b-8a28-4acd-e605-a18681a60f64"
      },
      "source": [
        "# Sample a nuber in the interval [0, 1)\n",
        "print()\n",
        "# Sample a number in the list [10 , 15, 20, 25, 30, 35, 40]\n",
        "print()\n",
        "# Sample a day of the week: \"Monday \", \"Tuesday\",\"Wednesday \",\"Thursday\", \"Friday \",\"Saturday\",\"Sunday\"\n",
        "print()"
      ],
      "execution_count": null,
      "outputs": [
        {
          "output_type": "stream",
          "text": [
            "\n",
            "\n",
            "\n"
          ],
          "name": "stdout"
        }
      ]
    },
    {
      "cell_type": "markdown",
      "metadata": {
        "id": "78wBkQn7eFnT"
      },
      "source": [
        "## Sets\n",
        "- Sets are unordered collections of distinct hashable objects\n",
        "- There are two types of sets: `set` is mutable whereas `frozenset` is immutable\n",
        "- A set is an unordered collection of objects and it cannot be indexed\n",
        "- The elements of a set are never duplicated, i.e., adding the same element again to\n",
        "a set has no effect (`cf. list.append()`)\n",
        "- Useful for keeping track of distinct objects and for doing mathematical set\n",
        "operations (union, intersection, set difference)\n",
        "- Sets come with nonmutating and mutating methods, where the mutating methods\n",
        "can be called only on instances of type `set`"
      ]
    },
    {
      "cell_type": "code",
      "metadata": {
        "id": "g-u0gOWreFnT"
      },
      "source": [
        "nodes = set ()\n",
        "nodes = set ([2 ,4 ,6 ,8 ,10 ,12])"
      ],
      "execution_count": null,
      "outputs": []
    },
    {
      "cell_type": "markdown",
      "metadata": {
        "id": "ItQET_1reFnU"
      },
      "source": [
        "Check the necessary attribute for the set `nodes` to access the single element `6`"
      ]
    },
    {
      "cell_type": "code",
      "metadata": {
        "id": "fTSNwgGzeFnU",
        "colab": {
          "base_uri": "https://localhost:8080/"
        },
        "outputId": "e60431ee-fe5a-4675-b503-3b3f0e00ad8c"
      },
      "source": [
        "# adding a single item at a time\n",
        "\n",
        "print(nodes)"
      ],
      "execution_count": null,
      "outputs": [
        {
          "output_type": "stream",
          "text": [
            "{2, 4, 6, 8, 10, 12}\n"
          ],
          "name": "stdout"
        }
      ]
    },
    {
      "cell_type": "markdown",
      "metadata": {
        "id": "D5LJK0JxeFnV"
      },
      "source": [
        "Use the `add()` method in the set `nodes` to add to the `set` a `list` with multiple elements `[6,14]`:"
      ]
    },
    {
      "cell_type": "code",
      "metadata": {
        "id": "KPZWaJayeFnV",
        "colab": {
          "base_uri": "https://localhost:8080/"
        },
        "outputId": "2607e02f-0c6a-417c-a525-cdbd6c550d80"
      },
      "source": [
        "# item adding multiple items at a time\n",
        "\n",
        "print(nodes)"
      ],
      "execution_count": null,
      "outputs": [
        {
          "output_type": "stream",
          "text": [
            "{2, 4, 6, 8, 10, 12}\n"
          ],
          "name": "stdout"
        }
      ]
    },
    {
      "cell_type": "markdown",
      "metadata": {
        "id": "EQ7Sc84-eFnV"
      },
      "source": [
        "Now use the `remove()` method to remove and return the following from the `set`:\n",
        "  1. An arbitrary element\n",
        "  2. Digit `4`:"
      ]
    },
    {
      "cell_type": "code",
      "metadata": {
        "id": "VrbdvqfgeFnW",
        "colab": {
          "base_uri": "https://localhost:8080/"
        },
        "outputId": "398bf7a4-31ad-4726-97d7-2daf30d2ddbe"
      },
      "source": [
        "# 1. # remove and return an arbitrary element\n",
        "\n",
        "print(nodes)\n",
        "# 2. remove a specified element\n",
        "\n",
        "print(nodes)"
      ],
      "execution_count": null,
      "outputs": [
        {
          "output_type": "stream",
          "text": [
            "{2, 4, 6, 8, 10, 12}\n",
            "{2, 4, 6, 8, 10, 12}\n"
          ],
          "name": "stdout"
        }
      ]
    },
    {
      "cell_type": "markdown",
      "metadata": {
        "id": "rTUExhwdeFnW"
      },
      "source": [
        "Now lets define a set of female names to explore some shortcuts:"
      ]
    },
    {
      "cell_type": "code",
      "metadata": {
        "id": "5LveYV9ieFnX",
        "colab": {
          "base_uri": "https://localhost:8080/"
        },
        "outputId": "0f30071b-0920-45fa-b3ba-77184bcc6278"
      },
      "source": [
        "females =  set([names[nm] for nm in [2,3,5]])\n",
        "females"
      ],
      "execution_count": null,
      "outputs": [
        {
          "output_type": "execute_result",
          "data": {
            "text/plain": [
              "{' John ', ' Mary ', 'Tom'}"
            ]
          },
          "metadata": {
            "tags": []
          },
          "execution_count": 83
        }
      ]
    },
    {
      "cell_type": "markdown",
      "metadata": {
        "id": "HQgNs-gn5VU4"
      },
      "source": [
        "\n",
        "\n",
        "---\n",
        "\n",
        "\n",
        "Side Note: The piece of code in line 1 is called a **list comprehension**. The syntax looks like: <br> \n",
        "[`value for i in list`] <br>\n",
        "*They can be used to easily generate lists without having to use a `for` loop.* They also work for dictionaries as you will see soon (`{key: value for i in list}`).\n",
        "\n",
        "\n",
        "*   `[n for n in range(0, 5)]` --> `[0, 1, 2, 3, 4]`\n",
        "*   `[ch for ch in 'hi']` --> `['h', 'i']`\n",
        "\n",
        "Now, back to sets.\n",
        "\n",
        "\n",
        "\n",
        "---\n",
        "\n"
      ]
    },
    {
      "cell_type": "markdown",
      "metadata": {
        "id": "bSZVM0iqeFng"
      },
      "source": [
        "- Now use a `set` attribute to define a male set as the difference between all names and female names, \n",
        "  - Remember `names` is a `list` so before doing anything turn it into a `set` using the `set()` function"
      ]
    },
    {
      "cell_type": "code",
      "metadata": {
        "id": "4JDsQAUOeFng",
        "colab": {
          "base_uri": "https://localhost:8080/",
          "height": 198
        },
        "outputId": "89db684e-5cbc-40af-d402-a80ccc59c7f1"
      },
      "source": [
        "\n",
        "\n",
        "print(males) # difference is a nonmutating method"
      ],
      "execution_count": null,
      "outputs": [
        {
          "output_type": "error",
          "ename": "NameError",
          "evalue": "ignored",
          "traceback": [
            "\u001b[0;31m---------------------------------------------------------------------------\u001b[0m",
            "\u001b[0;31mNameError\u001b[0m                                 Traceback (most recent call last)",
            "\u001b[0;32m<ipython-input-84-aaa7d52d29ec>\u001b[0m in \u001b[0;36m<module>\u001b[0;34m()\u001b[0m\n\u001b[1;32m      1\u001b[0m \u001b[0;34m\u001b[0m\u001b[0m\n\u001b[1;32m      2\u001b[0m \u001b[0;34m\u001b[0m\u001b[0m\n\u001b[0;32m----> 3\u001b[0;31m \u001b[0mprint\u001b[0m\u001b[0;34m(\u001b[0m\u001b[0mmales\u001b[0m\u001b[0;34m)\u001b[0m \u001b[0;31m# difference is a nonmutating method\u001b[0m\u001b[0;34m\u001b[0m\u001b[0;34m\u001b[0m\u001b[0m\n\u001b[0m",
            "\u001b[0;31mNameError\u001b[0m: name 'males' is not defined"
          ]
        }
      ]
    },
    {
      "cell_type": "markdown",
      "metadata": {
        "id": "3z8j0LrKeFnh"
      },
      "source": [
        "Check whether `' Jim '` and `' jim '` are in the `males` set"
      ]
    },
    {
      "cell_type": "code",
      "metadata": {
        "id": "x-VsduT-eFnh",
        "colab": {
          "base_uri": "https://localhost:8080/"
        },
        "outputId": "17301dee-2d31-4261-f097-6d32a2162873"
      },
      "source": [
        "# testing set membership\n",
        "print(\"' Jim ' in males ?\",)\n",
        "print(\"' jim ' in males ?\",)"
      ],
      "execution_count": null,
      "outputs": [
        {
          "output_type": "stream",
          "text": [
            "' Jim ' in males ?\n",
            "' jim ' in males ?\n"
          ],
          "name": "stdout"
        }
      ]
    },
    {
      "cell_type": "markdown",
      "metadata": {
        "id": "nPtOCea4eFni"
      },
      "source": [
        "- There are handy shortcuts for set operations:"
      ]
    },
    {
      "cell_type": "code",
      "metadata": {
        "id": "PD-Bg-LVeFni"
      },
      "source": [
        "males = names - females # set difference\n",
        "print(males)\n",
        "everyone = males | females # set union\n",
        "print(everyone)\n",
        "nobody = males & females # set intersection\n",
        "print(nobody)"
      ],
      "execution_count": null,
      "outputs": []
    },
    {
      "cell_type": "markdown",
      "metadata": {
        "id": "w_E_qhiweFni"
      },
      "source": [
        "- As a simple application, let’s use `set`s to count the number of unique letters in a word"
      ]
    },
    {
      "cell_type": "code",
      "metadata": {
        "id": "1sY6oOageFnj",
        "colab": {
          "base_uri": "https://localhost:8080/",
          "height": 35
        },
        "outputId": "b59d98e6-858d-4fbe-ed11-e816d66b0954"
      },
      "source": [
        "word = \"an-ti-dis-es-tab-lish-ment-ar-i-an-ism\" # syllabified\n",
        "word"
      ],
      "execution_count": null,
      "outputs": [
        {
          "output_type": "execute_result",
          "data": {
            "application/vnd.google.colaboratory.intrinsic+json": {
              "type": "string"
            },
            "text/plain": [
              "'an-ti-dis-es-tab-lish-ment-ar-i-an-ism'"
            ]
          },
          "metadata": {
            "tags": []
          },
          "execution_count": 85
        }
      ]
    },
    {
      "cell_type": "markdown",
      "metadata": {
        "id": "fokalGYPeFnj"
      },
      "source": [
        "1. Search for a string attribute to replace `\"-\"` characters with empty space and print the result\n",
        "2. Turn the `string` into a `set` and print the result\n",
        "3. Use function `len()` to count the letters in the word"
      ]
    },
    {
      "cell_type": "code",
      "metadata": {
        "id": "WHWS4iv6eFnj"
      },
      "source": [
        "\n",
        "print(word)\n",
        "\n",
        "print(letters)\n",
        "\n",
        "print(count)"
      ],
      "execution_count": null,
      "outputs": []
    },
    {
      "cell_type": "markdown",
      "metadata": {
        "id": "d-8nW0hxeFnk"
      },
      "source": [
        "- There is no need to do this in steps (apart from clarity) if we don’t need the\n",
        "intermediate results, try to do all the above in a single line:"
      ]
    },
    {
      "cell_type": "code",
      "metadata": {
        "id": "9oxceKzEeFnk"
      },
      "source": [
        "\n",
        "count"
      ],
      "execution_count": null,
      "outputs": []
    },
    {
      "cell_type": "markdown",
      "metadata": {
        "id": "As-aHa4HeFnm"
      },
      "source": [
        "## Dictionaries\n",
        "- Dictionaries are mappings from key objects to value objects\n",
        "  - Consist of key-value pairs, where **keys must be immutable** (actually, hashable) and\n",
        "the values can be anything.\n",
        "  - Dictionaries themselves are mutable, and can be seen as associative arrays.\n",
        "  - Dictionaries can be used for performing fast lookups on unordered data [like an IRL dictionary].\n",
        "  - Note that **dictionaries are not sequences**, and therefore do not maintain any type\n",
        "of left-to-right order, (i.e., keys and values are iterated over in an arbitrary order)\n",
        "  - <img src=\"https://files.realpython.com/media/t.b3e3d8f2d100.png\" width=300 height=400 alt=\"Diagram of a Dictionary\"/>\n",
        "  - Some examples of how to use dictionaries are listed below:"
      ]
    },
    {
      "cell_type": "code",
      "metadata": {
        "id": "YYGIybobeFnn",
        "colab": {
          "base_uri": "https://localhost:8080/",
          "height": 51
        },
        "outputId": "7f7f98b1-8de2-4af6-e4c8-52d8098ebb66"
      },
      "source": [
        "# There are two possible ways to create a new empty dictionary:\n",
        "md = {}\n",
        "md = dict ()\n",
        "# Now lets try a dictionary with names as keys and age as values\n",
        "age = {'Tim ': 29, 'Jim ': 31, 'Pam ': 27, 'Sam ': 35}\n",
        "print(age)\n",
        "# Now we want to access Tim's age:\n",
        "print(\"Tim's age:\",age['Tim '])"
      ],
      "execution_count": null,
      "outputs": [
        {
          "output_type": "stream",
          "text": [
            "{'Tim ': 29, 'Jim ': 31, 'Pam ': 27, 'Sam ': 35}\n",
            "Tim's age: 29\n"
          ],
          "name": "stdout"
        }
      ]
    },
    {
      "cell_type": "code",
      "metadata": {
        "id": "DQeHLl0oeFno",
        "colab": {
          "base_uri": "https://localhost:8080/",
          "height": 51
        },
        "outputId": "8007307f-528e-4110-e367-6cc741df3bc8"
      },
      "source": [
        "# Add one year to Tim's age:\n",
        "\n",
        "print(age['Tim '])\n",
        "# Create a new element: \"Tom \" who is 45 years of age\n",
        "\n",
        "age"
      ],
      "execution_count": null,
      "outputs": [
        {
          "output_type": "stream",
          "text": [
            "29\n"
          ],
          "name": "stdout"
        },
        {
          "output_type": "execute_result",
          "data": {
            "text/plain": [
              "{'Jim ': 31, 'Pam ': 27, 'Sam ': 35, 'Tim ': 29}"
            ]
          },
          "metadata": {
            "tags": []
          },
          "execution_count": 4
        }
      ]
    },
    {
      "cell_type": "markdown",
      "metadata": {
        "id": "6C7rn-ateFno"
      },
      "source": [
        "- The objects returned by `dict.keys()`, `dict.values()` and `dict.items()` are\n",
        "`view` objects\n",
        "  - They provide a dynamic view on the dictionary’s entries: when the dictionary chances,\n",
        "the view reflects these changes"
      ]
    },
    {
      "cell_type": "code",
      "metadata": {
        "id": "WkbLB6JyeFnp",
        "colab": {
          "base_uri": "https://localhost:8080/",
          "height": 68
        },
        "outputId": "65c4afa4-5f87-4d0e-845c-bcb490307bb5"
      },
      "source": [
        "# Check whether 'Tim ' is a key in Age\n",
        "\n",
        "# To get a new view of the dictionary’s keys\n",
        "print(age.keys ())\n",
        "# To get a new view of the dictionary’s values\n",
        "print(age.values ())\n",
        "age.items()"
      ],
      "execution_count": null,
      "outputs": [
        {
          "output_type": "stream",
          "text": [
            "dict_keys(['Tim ', 'Jim ', 'Pam ', 'Sam '])\n",
            "dict_values([29, 31, 27, 35])\n"
          ],
          "name": "stdout"
        },
        {
          "output_type": "execute_result",
          "data": {
            "text/plain": [
              "dict_items([('Tim ', 29), ('Jim ', 31), ('Pam ', 27), ('Sam ', 35)])"
            ]
          },
          "metadata": {
            "tags": []
          },
          "execution_count": 6
        }
      ]
    },
    {
      "cell_type": "code",
      "metadata": {
        "id": "frf9R74-Hg38"
      },
      "source": [
        ""
      ],
      "execution_count": null,
      "outputs": []
    },
    {
      "cell_type": "markdown",
      "metadata": {
        "id": "zBecrjB1ZFt7"
      },
      "source": [
        "## A Sneak Peak at Plots"
      ]
    },
    {
      "cell_type": "markdown",
      "metadata": {
        "id": "RMw02dN8Ztiq"
      },
      "source": [
        "We can create plots in Python by using the `matplotlib` module. Specifically, the `pyplot` module will be helpful for us so we can import a submodule of this module like this.\n",
        "<br> <br>\n",
        "The `plt` term is known as an alias and creates a short way to write a module's name.\n",
        "\n",
        "\n",
        "\n",
        "```\n",
        "import matplotlib.pyplot as plt\n",
        "```\n",
        "\n"
      ]
    },
    {
      "cell_type": "code",
      "metadata": {
        "id": "5tS_IvgOZVJL"
      },
      "source": [
        "import matplotlib.pyplot as plt"
      ],
      "execution_count": null,
      "outputs": []
    },
    {
      "cell_type": "code",
      "metadata": {
        "id": "bPs2uzKtaNqU",
        "colab": {
          "base_uri": "https://localhost:8080/",
          "height": 295
        },
        "outputId": "2d5f2efa-302f-4058-caf4-5bfb00328c0b"
      },
      "source": [
        "\n",
        "x = list(range(0, 10))\n",
        "y = [2 ** n for n in x]\n",
        "\n",
        "plt.title('Exponential Growth')\n",
        "plt.xlabel('X Values')\n",
        "plt.ylabel('Y Values')\n",
        "\n",
        "plt.plot(x, y)\n",
        "plt.show()"
      ],
      "execution_count": null,
      "outputs": [
        {
          "output_type": "display_data",
          "data": {
            "image/png": "[encoded data removed]",
            "text/plain": [
              "<Figure size 432x288 with 1 Axes>"
            ]
          },
          "metadata": {
            "tags": [],
            "needs_background": "light"
          }
        }
      ]
    },
    {
      "cell_type": "markdown",
      "metadata": {
        "id": "eGi2uuutbaZb"
      },
      "source": [
        "### Assignments\n",
        "\n",
        "\n",
        "*   Change the dataset to reflect a line rather than a exponential curve.\n",
        "*   Can you create a parabola in the graph?\n",
        "*   What about an absolute value graph?\n",
        "*   Create a discontinous line in the graph (*one point is missing on the line*)\n",
        "*   Can you craft the graph of the function $f(x) = -(e^x)$?\n",
        "\n",
        "Let us know your achievements to share it with the club?\n",
        "\n"
      ]
    },
    {
      "cell_type": "markdown",
      "metadata": {
        "id": "H0_gED3ZcGG8"
      },
      "source": [
        "# THE END\n",
        "Congrats on learning Python in a crash course bootcamp style! \n",
        "<br>Stay tuned for future club meetings!"
      ]
    }
  ]
}